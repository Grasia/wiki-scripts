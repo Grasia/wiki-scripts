{
 "cells": [
  {
   "cell_type": "code",
   "execution_count": 12,
   "metadata": {
    "ExecuteTime": {
     "end_time": "2018-03-15T09:08:10.467943Z",
     "start_time": "2018-03-15T09:08:10.345047Z"
    }
   },
   "outputs": [
    {
     "data": {
      "text/html": [
       "<script>requirejs.config({paths: { 'plotly': ['https://cdn.plot.ly/plotly-latest.min']},});if(!window.Plotly) {{require(['plotly'],function(plotly) {window.Plotly=plotly;});}}</script>"
      ],
      "text/vnd.plotly.v1+html": [
       "<script>requirejs.config({paths: { 'plotly': ['https://cdn.plot.ly/plotly-latest.min']},});if(!window.Plotly) {{require(['plotly'],function(plotly) {window.Plotly=plotly;});}}</script>"
      ]
     },
     "metadata": {},
     "output_type": "display_data"
    }
   ],
   "source": [
    "import pandas as pd\n",
    "import numpy as np\n",
    "import pylab\n",
    "%matplotlib inline\n",
    "\n",
    "import plotly.graph_objs as go\n",
    "from plotly.offline import init_notebook_mode, iplot\n",
    "init_notebook_mode(connected=True)"
   ]
  },
  {
   "cell_type": "markdown",
   "metadata": {},
   "source": [
    "# Load data"
   ]
  },
  {
   "cell_type": "code",
   "execution_count": 13,
   "metadata": {
    "ExecuteTime": {
     "end_time": "2018-03-15T09:08:13.428271Z",
     "start_time": "2018-03-15T09:08:10.468915Z"
    }
   },
   "outputs": [
    {
     "data": {
      "text/html": [
       "<div>\n",
       "<style scoped>\n",
       "    .dataframe tbody tr th:only-of-type {\n",
       "        vertical-align: middle;\n",
       "    }\n",
       "\n",
       "    .dataframe tbody tr th {\n",
       "        vertical-align: top;\n",
       "    }\n",
       "\n",
       "    .dataframe thead th {\n",
       "        text-align: right;\n",
       "    }\n",
       "</style>\n",
       "<table border=\"1\" class=\"dataframe\">\n",
       "  <thead>\n",
       "    <tr style=\"text-align: right;\">\n",
       "      <th></th>\n",
       "      <th>url</th>\n",
       "      <th>creation_date</th>\n",
       "      <th>domain</th>\n",
       "      <th>founding_user_id</th>\n",
       "      <th>headline</th>\n",
       "      <th>hub</th>\n",
       "      <th>id</th>\n",
       "      <th>lang</th>\n",
       "      <th>language</th>\n",
       "      <th>name</th>\n",
       "      <th>...</th>\n",
       "      <th>stats.nonarticles</th>\n",
       "      <th>users_1</th>\n",
       "      <th>users_5</th>\n",
       "      <th>users_10</th>\n",
       "      <th>users_20</th>\n",
       "      <th>users_50</th>\n",
       "      <th>users_100</th>\n",
       "      <th>bots</th>\n",
       "      <th>birthDate</th>\n",
       "      <th>datetime.birthDate</th>\n",
       "    </tr>\n",
       "    <tr>\n",
       "      <th>datetime.birthDate</th>\n",
       "      <th></th>\n",
       "      <th></th>\n",
       "      <th></th>\n",
       "      <th></th>\n",
       "      <th></th>\n",
       "      <th></th>\n",
       "      <th></th>\n",
       "      <th></th>\n",
       "      <th></th>\n",
       "      <th></th>\n",
       "      <th></th>\n",
       "      <th></th>\n",
       "      <th></th>\n",
       "      <th></th>\n",
       "      <th></th>\n",
       "      <th></th>\n",
       "      <th></th>\n",
       "      <th></th>\n",
       "      <th></th>\n",
       "      <th></th>\n",
       "      <th></th>\n",
       "    </tr>\n",
       "  </thead>\n",
       "  <tbody>\n",
       "    <tr>\n",
       "      <th>2012-05-01 14:14:00</th>\n",
       "      <td>http://spellmagotm.wikia.com</td>\n",
       "      <td>2012-05-01 13:58:13</td>\n",
       "      <td>spellmagotm.wikia.com</td>\n",
       "      <td>5069110.0</td>\n",
       "      <td>NaN</td>\n",
       "      <td>Games</td>\n",
       "      <td>529058.0</td>\n",
       "      <td>en</td>\n",
       "      <td>en</td>\n",
       "      <td>Spellmagotm Wiki</td>\n",
       "      <td>...</td>\n",
       "      <td>221.0</td>\n",
       "      <td>5</td>\n",
       "      <td>1</td>\n",
       "      <td>1</td>\n",
       "      <td>1</td>\n",
       "      <td>1</td>\n",
       "      <td>0</td>\n",
       "      <td>5</td>\n",
       "      <td>14:14, May 1, 2012</td>\n",
       "      <td>2012-05-01 14:14:00</td>\n",
       "    </tr>\n",
       "    <tr>\n",
       "      <th>2017-07-24 22:35:00</th>\n",
       "      <td>http://2017-monster-energy-nascar-cup-series.w...</td>\n",
       "      <td>2017-07-24 22:35:31</td>\n",
       "      <td>2017-monster-energy-nascar-cup-series.wikia.com</td>\n",
       "      <td>32529801.0</td>\n",
       "      <td>NaN</td>\n",
       "      <td>TV</td>\n",
       "      <td>1601247.0</td>\n",
       "      <td>en</td>\n",
       "      <td>en</td>\n",
       "      <td>2017 Monster Energy NASCAR Cup Series Wiki</td>\n",
       "      <td>...</td>\n",
       "      <td>108.0</td>\n",
       "      <td>6</td>\n",
       "      <td>3</td>\n",
       "      <td>1</td>\n",
       "      <td>1</td>\n",
       "      <td>1</td>\n",
       "      <td>1</td>\n",
       "      <td>4</td>\n",
       "      <td>22:35, July 24, 2017</td>\n",
       "      <td>2017-07-24 22:35:00</td>\n",
       "    </tr>\n",
       "    <tr>\n",
       "      <th>2009-09-15 23:21:00</th>\n",
       "      <td>http://10low46japreligion.wikia.com</td>\n",
       "      <td>2009-09-15 23:21:34</td>\n",
       "      <td>10low46japreligion.wikia.com</td>\n",
       "      <td>1602876.0</td>\n",
       "      <td>NaN</td>\n",
       "      <td>Lifestyle</td>\n",
       "      <td>52061.0</td>\n",
       "      <td>en</td>\n",
       "      <td>en</td>\n",
       "      <td>Ancient Japanese Religion (Daramalan Assignmen...</td>\n",
       "      <td>...</td>\n",
       "      <td>239.0</td>\n",
       "      <td>7</td>\n",
       "      <td>2</td>\n",
       "      <td>1</td>\n",
       "      <td>1</td>\n",
       "      <td>1</td>\n",
       "      <td>1</td>\n",
       "      <td>5</td>\n",
       "      <td>23:21, September 15, 2009</td>\n",
       "      <td>2009-09-15 23:21:00</td>\n",
       "    </tr>\n",
       "    <tr>\n",
       "      <th>2014-05-30 15:43:00</th>\n",
       "      <td>http://indigo-showdown.wikia.com</td>\n",
       "      <td>2014-05-30 15:43:23</td>\n",
       "      <td>indigo-showdown.wikia.com</td>\n",
       "      <td>25001469.0</td>\n",
       "      <td>NaN</td>\n",
       "      <td>Games</td>\n",
       "      <td>982346.0</td>\n",
       "      <td>en</td>\n",
       "      <td>en</td>\n",
       "      <td>Indigo showdown Wiki</td>\n",
       "      <td>...</td>\n",
       "      <td>139.0</td>\n",
       "      <td>9</td>\n",
       "      <td>4</td>\n",
       "      <td>3</td>\n",
       "      <td>3</td>\n",
       "      <td>1</td>\n",
       "      <td>0</td>\n",
       "      <td>5</td>\n",
       "      <td>15:43, May 30, 2014</td>\n",
       "      <td>2014-05-30 15:43:00</td>\n",
       "    </tr>\n",
       "    <tr>\n",
       "      <th>2011-02-18 23:15:00</th>\n",
       "      <td>http://animewiki2.wikia.com</td>\n",
       "      <td>2011-02-18 23:15:14</td>\n",
       "      <td>animewiki2.wikia.com</td>\n",
       "      <td>1160460.0</td>\n",
       "      <td>NaN</td>\n",
       "      <td>TV</td>\n",
       "      <td>221590.0</td>\n",
       "      <td>en</td>\n",
       "      <td>en</td>\n",
       "      <td>Animewiki2 Wiki</td>\n",
       "      <td>...</td>\n",
       "      <td>5203.0</td>\n",
       "      <td>33</td>\n",
       "      <td>21</td>\n",
       "      <td>16</td>\n",
       "      <td>14</td>\n",
       "      <td>9</td>\n",
       "      <td>6</td>\n",
       "      <td>3</td>\n",
       "      <td>23:15, February 18, 2011</td>\n",
       "      <td>2011-02-18 23:15:00</td>\n",
       "    </tr>\n",
       "  </tbody>\n",
       "</table>\n",
       "<p>5 rows × 32 columns</p>\n",
       "</div>"
      ],
      "text/plain": [
       "                                                                   url  \\\n",
       "datetime.birthDate                                                       \n",
       "2012-05-01 14:14:00                       http://spellmagotm.wikia.com   \n",
       "2017-07-24 22:35:00  http://2017-monster-energy-nascar-cup-series.w...   \n",
       "2009-09-15 23:21:00                http://10low46japreligion.wikia.com   \n",
       "2014-05-30 15:43:00                   http://indigo-showdown.wikia.com   \n",
       "2011-02-18 23:15:00                        http://animewiki2.wikia.com   \n",
       "\n",
       "                           creation_date  \\\n",
       "datetime.birthDate                         \n",
       "2012-05-01 14:14:00  2012-05-01 13:58:13   \n",
       "2017-07-24 22:35:00  2017-07-24 22:35:31   \n",
       "2009-09-15 23:21:00  2009-09-15 23:21:34   \n",
       "2014-05-30 15:43:00  2014-05-30 15:43:23   \n",
       "2011-02-18 23:15:00  2011-02-18 23:15:14   \n",
       "\n",
       "                                                              domain  \\\n",
       "datetime.birthDate                                                     \n",
       "2012-05-01 14:14:00                            spellmagotm.wikia.com   \n",
       "2017-07-24 22:35:00  2017-monster-energy-nascar-cup-series.wikia.com   \n",
       "2009-09-15 23:21:00                     10low46japreligion.wikia.com   \n",
       "2014-05-30 15:43:00                        indigo-showdown.wikia.com   \n",
       "2011-02-18 23:15:00                             animewiki2.wikia.com   \n",
       "\n",
       "                     founding_user_id headline        hub         id lang  \\\n",
       "datetime.birthDate                                                          \n",
       "2012-05-01 14:14:00         5069110.0      NaN      Games   529058.0   en   \n",
       "2017-07-24 22:35:00        32529801.0      NaN         TV  1601247.0   en   \n",
       "2009-09-15 23:21:00         1602876.0      NaN  Lifestyle    52061.0   en   \n",
       "2014-05-30 15:43:00        25001469.0      NaN      Games   982346.0   en   \n",
       "2011-02-18 23:15:00         1160460.0      NaN         TV   221590.0   en   \n",
       "\n",
       "                    language  \\\n",
       "datetime.birthDate             \n",
       "2012-05-01 14:14:00       en   \n",
       "2017-07-24 22:35:00       en   \n",
       "2009-09-15 23:21:00       en   \n",
       "2014-05-30 15:43:00       en   \n",
       "2011-02-18 23:15:00       en   \n",
       "\n",
       "                                                                  name  \\\n",
       "datetime.birthDate                                                       \n",
       "2012-05-01 14:14:00                                   Spellmagotm Wiki   \n",
       "2017-07-24 22:35:00         2017 Monster Energy NASCAR Cup Series Wiki   \n",
       "2009-09-15 23:21:00  Ancient Japanese Religion (Daramalan Assignmen...   \n",
       "2014-05-30 15:43:00                               Indigo showdown Wiki   \n",
       "2011-02-18 23:15:00                                    Animewiki2 Wiki   \n",
       "\n",
       "                            ...          stats.nonarticles  users_1  users_5  \\\n",
       "datetime.birthDate          ...                                                \n",
       "2012-05-01 14:14:00         ...                      221.0        5        1   \n",
       "2017-07-24 22:35:00         ...                      108.0        6        3   \n",
       "2009-09-15 23:21:00         ...                      239.0        7        2   \n",
       "2014-05-30 15:43:00         ...                      139.0        9        4   \n",
       "2011-02-18 23:15:00         ...                     5203.0       33       21   \n",
       "\n",
       "                     users_10  users_20  users_50  users_100  bots  \\\n",
       "datetime.birthDate                                                   \n",
       "2012-05-01 14:14:00         1         1         1          0     5   \n",
       "2017-07-24 22:35:00         1         1         1          1     4   \n",
       "2009-09-15 23:21:00         1         1         1          1     5   \n",
       "2014-05-30 15:43:00         3         3         1          0     5   \n",
       "2011-02-18 23:15:00        16        14         9          6     3   \n",
       "\n",
       "                                     birthDate  datetime.birthDate  \n",
       "datetime.birthDate                                                  \n",
       "2012-05-01 14:14:00         14:14, May 1, 2012 2012-05-01 14:14:00  \n",
       "2017-07-24 22:35:00       22:35, July 24, 2017 2017-07-24 22:35:00  \n",
       "2009-09-15 23:21:00  23:21, September 15, 2009 2009-09-15 23:21:00  \n",
       "2014-05-30 15:43:00        15:43, May 30, 2014 2014-05-30 15:43:00  \n",
       "2011-02-18 23:15:00   23:15, February 18, 2011 2011-02-18 23:15:00  \n",
       "\n",
       "[5 rows x 32 columns]"
      ]
     },
     "execution_count": 13,
     "metadata": {},
     "output_type": "execute_result"
    }
   ],
   "source": [
    "df = pd.read_csv(\"../data/20181019-wikia_stats_users_birthdate.csv\")\n",
    "df['datetime.birthDate'] = pd.to_datetime(df['datetime.birthDate'], infer_datetime_format=True, errors='coerce') \n",
    "df.set_index(df['datetime.birthDate'], inplace=True)\n",
    "df.head()"
   ]
  },
  {
   "cell_type": "markdown",
   "metadata": {},
   "source": [
    "# Number of wikis over the years"
   ]
  },
  {
   "cell_type": "code",
   "execution_count": 14,
   "metadata": {
    "ExecuteTime": {
     "end_time": "2018-03-15T09:08:27.917165Z",
     "start_time": "2018-03-15T09:08:26.835214Z"
    }
   },
   "outputs": [
    {
     "data": {
      "text/plain": [
       "datetime.birthDate\n",
       "1998-12-31      133\n",
       "1999-12-31        4\n",
       "2000-12-31        0\n",
       "2001-12-31        2\n",
       "2002-12-31        0\n",
       "2003-12-31        1\n",
       "2004-12-31       30\n",
       "2005-12-31      438\n",
       "2006-12-31      950\n",
       "2007-12-31      934\n",
       "2008-12-31     2669\n",
       "2009-12-31     8927\n",
       "2010-12-31    14432\n",
       "2011-12-31    16746\n",
       "2012-12-31    24404\n",
       "2013-12-31    26663\n",
       "2014-12-31    25167\n",
       "2015-12-31    22074\n",
       "2016-12-31    19324\n",
       "2017-12-31    40105\n",
       "2018-12-31    74791\n",
       "Name: id, dtype: int64"
      ]
     },
     "execution_count": 14,
     "metadata": {},
     "output_type": "execute_result"
    }
   ],
   "source": [
    "byYear = df.resample('y').count()['id']\n",
    "byYear"
   ]
  },
  {
   "cell_type": "markdown",
   "metadata": {},
   "source": [
    "Data shows an anomaly because Wikia was created in 2004. A deepen analysis of some of the anomaly wikis shows that some fake birthdates were included by a maintenance script (see [the earliest edit of this wiki, as an example](http://blasterman.wikia.com/wiki/Blasterman_Wiki?dir=prev&action=history)).\n",
    "\n",
    "Additionally, 2018 wikis are very young (no more than two months) so they will be also removed.\n"
   ]
  },
  {
   "cell_type": "code",
   "execution_count": 15,
   "metadata": {},
   "outputs": [
    {
     "data": {
      "text/plain": [
       "datetime.birthDate\n",
       "2004-12-31      21\n",
       "2005-12-31     322\n",
       "2006-12-31     636\n",
       "2007-12-31     564\n",
       "2008-12-31    1217\n",
       "2009-12-31    1887\n",
       "2010-12-31    1968\n",
       "2011-12-31    2142\n",
       "2012-12-31    2471\n",
       "2013-12-31    2710\n",
       "2014-12-31    2684\n",
       "2015-12-31    2898\n",
       "2016-12-31    3198\n",
       "2017-12-31    5511\n",
       "Freq: A-DEC, Name: id, dtype: int64"
      ]
     },
     "execution_count": 15,
     "metadata": {},
     "output_type": "execute_result"
    }
   ],
   "source": [
    "dfClean = df['2004':'2017'].copy()\n",
    "byYear = dfClean.resample('y').count()['id']\n",
    "\n",
    "# Active Wikis: at least one active user in the last 30 days\n",
    "activeByYear = dfClean[(dfClean['stats.activeUsers']>=1)&(dfClean['users_1']>0)].resample('y').count()['id']\n",
    "activeByYear"
   ]
  },
  {
   "cell_type": "code",
   "execution_count": 16,
   "metadata": {
    "ExecuteTime": {
     "end_time": "2018-03-15T09:08:28.186413Z",
     "start_time": "2018-03-15T09:08:28.178536Z"
    }
   },
   "outputs": [
    {
     "data": {
      "application/vnd.plotly.v1+json": {
       "data": [
        {
         "name": "Total wikis",
         "type": "bar",
         "x": [
          2004,
          2005,
          2006,
          2007,
          2008,
          2009,
          2010,
          2011,
          2012,
          2013,
          2014,
          2015,
          2016,
          2017
         ],
         "y": [
          30,
          438,
          950,
          934,
          2669,
          8927,
          14432,
          16746,
          24404,
          26663,
          25167,
          22074,
          19324,
          40105
         ]
        },
        {
         "name": "Active wikis",
         "type": "bar",
         "x": [
          2004,
          2005,
          2006,
          2007,
          2008,
          2009,
          2010,
          2011,
          2012,
          2013,
          2014,
          2015,
          2016,
          2017
         ],
         "y": [
          21,
          322,
          636,
          564,
          1217,
          1887,
          1968,
          2142,
          2471,
          2710,
          2684,
          2898,
          3198,
          5511
         ]
        }
       ],
       "layout": {
        "legend": {
         "x": 0.1,
         "y": 0.85
        },
        "xaxis": {
         "autotick": false,
         "tickangle": 30
        }
       }
      },
      "text/html": [
       "<div id=\"e824f238-900e-4dd6-9a58-4768535e77c7\" style=\"height: 525px; width: 100%;\" class=\"plotly-graph-div\"></div><script type=\"text/javascript\">require([\"plotly\"], function(Plotly) { window.PLOTLYENV=window.PLOTLYENV || {};window.PLOTLYENV.BASE_URL=\"https://plot.ly\";Plotly.newPlot(\"e824f238-900e-4dd6-9a58-4768535e77c7\", [{\"x\": [2004, 2005, 2006, 2007, 2008, 2009, 2010, 2011, 2012, 2013, 2014, 2015, 2016, 2017], \"name\": \"Total wikis\", \"y\": [30, 438, 950, 934, 2669, 8927, 14432, 16746, 24404, 26663, 25167, 22074, 19324, 40105], \"type\": \"bar\"}, {\"x\": [2004, 2005, 2006, 2007, 2008, 2009, 2010, 2011, 2012, 2013, 2014, 2015, 2016, 2017], \"name\": \"Active wikis\", \"y\": [21, 322, 636, 564, 1217, 1887, 1968, 2142, 2471, 2710, 2684, 2898, 3198, 5511], \"type\": \"bar\"}], {\"legend\": {\"x\": 0.1, \"y\": 0.85}, \"xaxis\": {\"autotick\": false, \"tickangle\": 30}}, {\"showLink\": true, \"linkText\": \"Export to plot.ly\"})});</script>"
      ],
      "text/vnd.plotly.v1+html": [
       "<div id=\"e824f238-900e-4dd6-9a58-4768535e77c7\" style=\"height: 525px; width: 100%;\" class=\"plotly-graph-div\"></div><script type=\"text/javascript\">require([\"plotly\"], function(Plotly) { window.PLOTLYENV=window.PLOTLYENV || {};window.PLOTLYENV.BASE_URL=\"https://plot.ly\";Plotly.newPlot(\"e824f238-900e-4dd6-9a58-4768535e77c7\", [{\"x\": [2004, 2005, 2006, 2007, 2008, 2009, 2010, 2011, 2012, 2013, 2014, 2015, 2016, 2017], \"name\": \"Total wikis\", \"y\": [30, 438, 950, 934, 2669, 8927, 14432, 16746, 24404, 26663, 25167, 22074, 19324, 40105], \"type\": \"bar\"}, {\"x\": [2004, 2005, 2006, 2007, 2008, 2009, 2010, 2011, 2012, 2013, 2014, 2015, 2016, 2017], \"name\": \"Active wikis\", \"y\": [21, 322, 636, 564, 1217, 1887, 1968, 2142, 2471, 2710, 2684, 2898, 3198, 5511], \"type\": \"bar\"}], {\"legend\": {\"x\": 0.1, \"y\": 0.85}, \"xaxis\": {\"autotick\": false, \"tickangle\": 30}}, {\"showLink\": true, \"linkText\": \"Export to plot.ly\"})});</script>"
      ]
     },
     "metadata": {},
     "output_type": "display_data"
    }
   ],
   "source": [
    "traceTotal = go.Bar(x=byYear.index.year, y=byYear.values, name=\"Total wikis\")\n",
    "traceActive = go.Bar(x=activeByYear.index.year, y=activeByYear.values, name=\"Active wikis\")\n",
    "layout = go.Layout(\n",
    "    legend=dict(x=0.1, y=0.85),\n",
    "    xaxis=dict(\n",
    "        autotick=False,\n",
    "        tickangle=30\n",
    "    )\n",
    ")\n",
    "iplot(go.Figure(data=[traceTotal, traceActive], layout=layout), filename='byYear')"
   ]
  },
  {
   "cell_type": "markdown",
   "metadata": {},
   "source": [
    "## Wiki age\n",
    "\n",
    "Instead of showing the number of wikis over the years, we will focus on the age of the active wikis in order to visualize the population pyramid."
   ]
  },
  {
   "cell_type": "code",
   "execution_count": 17,
   "metadata": {
    "ExecuteTime": {
     "end_time": "2018-03-15T09:08:44.921169Z",
     "start_time": "2018-03-15T09:08:37.221573Z"
    }
   },
   "outputs": [],
   "source": [
    "def computeAge(birthDate):\n",
    "    timeSinceBirth = pd.Timestamp(2018, 2, 20)-birthDate\n",
    "    return int(timeSinceBirth.days/365)\n",
    "dfClean['age'] = dfClean['datetime.birthDate'].apply(computeAge)"
   ]
  },
  {
   "cell_type": "code",
   "execution_count": 18,
   "metadata": {
    "ExecuteTime": {
     "end_time": "2018-03-15T09:08:45.069752Z",
     "start_time": "2018-03-15T09:08:44.951427Z"
    }
   },
   "outputs": [],
   "source": [
    "activeWikis = dfClean[(dfClean['stats.activeUsers']>=1)&(dfClean['users_1']>0)]\n",
    "inactiveWikis = dfClean[(dfClean['stats.activeUsers']<1)|(dfClean['users_1']==0)]"
   ]
  },
  {
   "cell_type": "code",
   "execution_count": 19,
   "metadata": {
    "ExecuteTime": {
     "end_time": "2018-03-15T09:08:45.099049Z",
     "start_time": "2018-03-15T09:08:45.070938Z"
    }
   },
   "outputs": [],
   "source": [
    "activeByAge = activeWikis.groupby(by=['age']).url.count()\n",
    "inactiveByAge = inactiveWikis.groupby(by=['age']).url.count()"
   ]
  },
  {
   "cell_type": "code",
   "execution_count": 20,
   "metadata": {
    "ExecuteTime": {
     "end_time": "2018-03-15T09:15:12.277406Z",
     "start_time": "2018-03-15T09:15:12.263078Z"
    }
   },
   "outputs": [
    {
     "data": {
      "application/vnd.plotly.v1+json": {
       "data": [
        {
         "fill": "tonexty",
         "line": {
          "width": 0.5
         },
         "mode": "lines",
         "name": "Active wikis",
         "type": "scatter",
         "x": [
          0,
          1,
          2,
          3,
          4,
          5,
          6,
          7,
          8,
          9,
          10,
          11,
          12,
          13
         ],
         "y": [
          4954,
          3364,
          2864,
          2738,
          2708,
          2507,
          2216,
          1976,
          1960,
          1221,
          725,
          578,
          355,
          63
         ]
        }
       ],
       "layout": {
        "legend": {
         "x": 0.4
        },
        "xaxis": {
         "domain": [
          0,
          0.5
         ],
         "tickmode": "array",
         "tickvals": [
          0,
          1,
          2,
          3,
          4,
          5,
          6,
          7,
          8,
          9,
          10,
          11,
          12,
          13,
          14,
          15,
          16,
          17,
          18,
          19
         ],
         "title": "Age (in years)"
        },
        "yaxis": {
         "title": "Number of active wikis"
        }
       }
      },
      "text/html": [
       "<div id=\"fb31cc87-8576-477d-ac09-14f0798cc19c\" style=\"height: 525px; width: 100%;\" class=\"plotly-graph-div\"></div><script type=\"text/javascript\">require([\"plotly\"], function(Plotly) { window.PLOTLYENV=window.PLOTLYENV || {};window.PLOTLYENV.BASE_URL=\"https://plot.ly\";Plotly.newPlot(\"fb31cc87-8576-477d-ac09-14f0798cc19c\", [{\"fill\": \"tonexty\", \"x\": [0, 1, 2, 3, 4, 5, 6, 7, 8, 9, 10, 11, 12, 13], \"name\": \"Active wikis\", \"mode\": \"lines\", \"y\": [4954, 3364, 2864, 2738, 2708, 2507, 2216, 1976, 1960, 1221, 725, 578, 355, 63], \"type\": \"scatter\", \"line\": {\"width\": 0.5}}], {\"yaxis\": {\"title\": \"Number of active wikis\"}, \"legend\": {\"x\": 0.4}, \"xaxis\": {\"domain\": [0, 0.5], \"tickmode\": \"array\", \"tickvals\": [0, 1, 2, 3, 4, 5, 6, 7, 8, 9, 10, 11, 12, 13, 14, 15, 16, 17, 18, 19], \"title\": \"Age (in years)\"}}, {\"showLink\": true, \"linkText\": \"Export to plot.ly\"})});</script>"
      ],
      "text/vnd.plotly.v1+html": [
       "<div id=\"fb31cc87-8576-477d-ac09-14f0798cc19c\" style=\"height: 525px; width: 100%;\" class=\"plotly-graph-div\"></div><script type=\"text/javascript\">require([\"plotly\"], function(Plotly) { window.PLOTLYENV=window.PLOTLYENV || {};window.PLOTLYENV.BASE_URL=\"https://plot.ly\";Plotly.newPlot(\"fb31cc87-8576-477d-ac09-14f0798cc19c\", [{\"fill\": \"tonexty\", \"x\": [0, 1, 2, 3, 4, 5, 6, 7, 8, 9, 10, 11, 12, 13], \"name\": \"Active wikis\", \"mode\": \"lines\", \"y\": [4954, 3364, 2864, 2738, 2708, 2507, 2216, 1976, 1960, 1221, 725, 578, 355, 63], \"type\": \"scatter\", \"line\": {\"width\": 0.5}}], {\"yaxis\": {\"title\": \"Number of active wikis\"}, \"legend\": {\"x\": 0.4}, \"xaxis\": {\"domain\": [0, 0.5], \"tickmode\": \"array\", \"tickvals\": [0, 1, 2, 3, 4, 5, 6, 7, 8, 9, 10, 11, 12, 13, 14, 15, 16, 17, 18, 19], \"title\": \"Age (in years)\"}}, {\"showLink\": true, \"linkText\": \"Export to plot.ly\"})});</script>"
      ]
     },
     "metadata": {},
     "output_type": "display_data"
    }
   ],
   "source": [
    "trace0 = go.Scatter(\n",
    "    x=activeByAge.index.values,\n",
    "    y=activeByAge.values,\n",
    "    mode='lines',\n",
    "    name=\"Active wikis\",\n",
    "    line=dict(width=0.5),\n",
    "    fill='tonexty'\n",
    ")\n",
    "\n",
    "trace1 = go.Scatter(\n",
    "    x=inactiveByAge.index.values,\n",
    "    y=inactiveByAge.values,\n",
    "    mode='lines',\n",
    "    name=\"Inactive wikis\",\n",
    "    line=dict(width=0.5),\n",
    "    fill='tonexty'\n",
    ")\n",
    "\n",
    "layout = go.Layout(\n",
    "    yaxis=dict(title='Number of active wikis'),\n",
    "    xaxis=dict(\n",
    "        domain=[0,0.5],\n",
    "        tickmode='array',\n",
    "        tickvals=list(range(0,20)),\n",
    "        title=\"Age (in years)\"\n",
    "    ),\n",
    "    legend=dict(\n",
    "        x=0.4\n",
    "    )\n",
    ");\n",
    "\n",
    "fig = go.Figure(data=[trace0], layout=layout)\n",
    "iplot(fig, filename='stacked-area-plot')"
   ]
  },
  {
   "cell_type": "code",
   "execution_count": null,
   "metadata": {},
   "outputs": [],
   "source": []
  }
 ],
 "metadata": {
  "kernelspec": {
   "display_name": "Python 3",
   "language": "python",
   "name": "python3"
  },
  "language_info": {
   "codemirror_mode": {
    "name": "ipython",
    "version": 3
   },
   "file_extension": ".py",
   "mimetype": "text/x-python",
   "name": "python",
   "nbconvert_exporter": "python",
   "pygments_lexer": "ipython3",
   "version": "3.5.2"
  },
  "toc": {
   "colors": {
    "hover_highlight": "#DAA520",
    "navigate_num": "#000000",
    "navigate_text": "#333333",
    "running_highlight": "#FF0000",
    "selected_highlight": "#FFD700",
    "sidebar_border": "#EEEEEE",
    "wrapper_background": "#FFFFFF"
   },
   "moveMenuLeft": true,
   "nav_menu": {
    "height": "12px",
    "width": "252px"
   },
   "navigate_menu": true,
   "number_sections": true,
   "sideBar": true,
   "threshold": 4,
   "toc_cell": false,
   "toc_section_display": "block",
   "toc_window_display": false,
   "widenNotebook": false
  },
  "varInspector": {
   "cols": {
    "lenName": 16,
    "lenType": 16,
    "lenVar": 40
   },
   "kernels_config": {
    "python": {
     "delete_cmd_postfix": "",
     "delete_cmd_prefix": "del ",
     "library": "var_list.py",
     "varRefreshCmd": "print(var_dic_list())"
    },
    "r": {
     "delete_cmd_postfix": ") ",
     "delete_cmd_prefix": "rm(",
     "library": "var_list.r",
     "varRefreshCmd": "cat(var_dic_list()) "
    }
   },
   "types_to_exclude": [
    "module",
    "function",
    "builtin_function_or_method",
    "instance",
    "_Feature"
   ],
   "window_display": false
  }
 },
 "nbformat": 4,
 "nbformat_minor": 2
}
