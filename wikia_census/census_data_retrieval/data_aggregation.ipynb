{
 "cells": [
  {
   "cell_type": "code",
   "execution_count": 58,
   "metadata": {
    "ExecuteTime": {
     "end_time": "2018-05-08T16:13:16.439918Z",
     "start_time": "2018-05-08T16:13:15.954710Z"
    }
   },
   "outputs": [],
   "source": [
    "import pandas as pd\n",
    "import numpy as np\n",
    "import dateparser\n",
    "import datetime\n",
    "import time"
   ]
  },
  {
   "cell_type": "markdown",
   "metadata": {},
   "source": [
    "# Helper functions"
   ]
  },
  {
   "cell_type": "code",
   "execution_count": 59,
   "metadata": {},
   "outputs": [],
   "source": [
    "def remove_trailing_slash(url):\n",
    "    return url[:-1] if url[-1:] == '/' else url"
   ]
  },
  {
   "cell_type": "markdown",
   "metadata": {},
   "source": [
    "# Aggregating stats and users\n",
    "\n"
   ]
  },
  {
   "cell_type": "code",
   "execution_count": 60,
   "metadata": {
    "ExecuteTime": {
     "end_time": "2018-05-08T16:13:20.285487Z",
     "start_time": "2018-05-08T16:13:19.577427Z"
    }
   },
   "outputs": [
    {
     "data": {
      "text/html": [
       "<div>\n",
       "<style scoped>\n",
       "    .dataframe tbody tr th:only-of-type {\n",
       "        vertical-align: middle;\n",
       "    }\n",
       "\n",
       "    .dataframe tbody tr th {\n",
       "        vertical-align: top;\n",
       "    }\n",
       "\n",
       "    .dataframe thead th {\n",
       "        text-align: right;\n",
       "    }\n",
       "</style>\n",
       "<table border=\"1\" class=\"dataframe\">\n",
       "  <thead>\n",
       "    <tr style=\"text-align: right;\">\n",
       "      <th></th>\n",
       "      <th>url</th>\n",
       "      <th>users_1</th>\n",
       "      <th>users_5</th>\n",
       "      <th>users_10</th>\n",
       "      <th>users_20</th>\n",
       "      <th>users_50</th>\n",
       "      <th>users_100</th>\n",
       "      <th>bots</th>\n",
       "    </tr>\n",
       "  </thead>\n",
       "  <tbody>\n",
       "    <tr>\n",
       "      <th>0</th>\n",
       "      <td>http://spellmagotm.wikia.com</td>\n",
       "      <td>5</td>\n",
       "      <td>1</td>\n",
       "      <td>1</td>\n",
       "      <td>1</td>\n",
       "      <td>1</td>\n",
       "      <td>0</td>\n",
       "      <td>5</td>\n",
       "    </tr>\n",
       "    <tr>\n",
       "      <th>1</th>\n",
       "      <td>http://2017-monster-energy-nascar-cup-series.w...</td>\n",
       "      <td>6</td>\n",
       "      <td>3</td>\n",
       "      <td>1</td>\n",
       "      <td>1</td>\n",
       "      <td>1</td>\n",
       "      <td>1</td>\n",
       "      <td>4</td>\n",
       "    </tr>\n",
       "    <tr>\n",
       "      <th>2</th>\n",
       "      <td>http://10low46japreligion.wikia.com</td>\n",
       "      <td>7</td>\n",
       "      <td>2</td>\n",
       "      <td>1</td>\n",
       "      <td>1</td>\n",
       "      <td>1</td>\n",
       "      <td>1</td>\n",
       "      <td>5</td>\n",
       "    </tr>\n",
       "    <tr>\n",
       "      <th>3</th>\n",
       "      <td>http://de.bibel.wikia.com</td>\n",
       "      <td>4</td>\n",
       "      <td>1</td>\n",
       "      <td>1</td>\n",
       "      <td>1</td>\n",
       "      <td>0</td>\n",
       "      <td>0</td>\n",
       "      <td>2</td>\n",
       "    </tr>\n",
       "    <tr>\n",
       "      <th>4</th>\n",
       "      <td>http://indigo-showdown.wikia.com</td>\n",
       "      <td>9</td>\n",
       "      <td>4</td>\n",
       "      <td>3</td>\n",
       "      <td>3</td>\n",
       "      <td>1</td>\n",
       "      <td>0</td>\n",
       "      <td>5</td>\n",
       "    </tr>\n",
       "  </tbody>\n",
       "</table>\n",
       "</div>"
      ],
      "text/plain": [
       "                                                 url  users_1  users_5  \\\n",
       "0                       http://spellmagotm.wikia.com        5        1   \n",
       "1  http://2017-monster-energy-nascar-cup-series.w...        6        3   \n",
       "2                http://10low46japreligion.wikia.com        7        2   \n",
       "3                          http://de.bibel.wikia.com        4        1   \n",
       "4                   http://indigo-showdown.wikia.com        9        4   \n",
       "\n",
       "   users_10  users_20  users_50  users_100  bots  \n",
       "0         1         1         1          0     5  \n",
       "1         1         1         1          1     4  \n",
       "2         1         1         1          1     5  \n",
       "3         1         1         0          0     2  \n",
       "4         3         3         1          0     5  "
      ]
     },
     "execution_count": 60,
     "metadata": {},
     "output_type": "execute_result"
    }
   ],
   "source": [
    "# Load users data\n",
    "#dfUsers = pd.read_csv(\"../data/wikia_users.csv\", names=['url', 'users_1', 'users_5', 'users_10', 'users_20', 'users_50',\n",
    "       #' users_100', ' bots'], header=0, skiprows=0)\n",
    "dfUsers = pd.read_csv(\"../data/wikia_users.csv\", skipinitialspace=True)\n",
    "dfUsers.drop_duplicates(subset=['url'], inplace=True)\n",
    "dfUsers.dropna(subset=['url'], inplace=True)\n",
    "# Remove trailing slash / in case there is at the end of urls\n",
    "dfUsers['url'] = dfUsers['url'].apply(remove_trailing_slash)\n",
    "#dfUsers.columns\n",
    "dfUsers.head()"
   ]
  },
  {
   "cell_type": "code",
   "execution_count": 61,
   "metadata": {
    "ExecuteTime": {
     "end_time": "2018-05-08T16:13:25.518947Z",
     "start_time": "2018-05-08T16:13:23.507270Z"
    }
   },
   "outputs": [
    {
     "data": {
      "text/html": [
       "<div>\n",
       "<style scoped>\n",
       "    .dataframe tbody tr th:only-of-type {\n",
       "        vertical-align: middle;\n",
       "    }\n",
       "\n",
       "    .dataframe tbody tr th {\n",
       "        vertical-align: top;\n",
       "    }\n",
       "\n",
       "    .dataframe thead th {\n",
       "        text-align: right;\n",
       "    }\n",
       "</style>\n",
       "<table border=\"1\" class=\"dataframe\">\n",
       "  <thead>\n",
       "    <tr style=\"text-align: right;\">\n",
       "      <th></th>\n",
       "      <th>creation_date</th>\n",
       "      <th>domain</th>\n",
       "      <th>founding_user_id</th>\n",
       "      <th>headline</th>\n",
       "      <th>hub</th>\n",
       "      <th>id</th>\n",
       "      <th>lang</th>\n",
       "      <th>language</th>\n",
       "      <th>name</th>\n",
       "      <th>stats.activeUsers</th>\n",
       "      <th>...</th>\n",
       "      <th>stats.edits</th>\n",
       "      <th>stats.images</th>\n",
       "      <th>stats.pages</th>\n",
       "      <th>stats.users</th>\n",
       "      <th>stats.videos</th>\n",
       "      <th>title</th>\n",
       "      <th>topic</th>\n",
       "      <th>url</th>\n",
       "      <th>wam_score</th>\n",
       "      <th>stats.nonarticles</th>\n",
       "    </tr>\n",
       "  </thead>\n",
       "  <tbody>\n",
       "    <tr>\n",
       "      <th>0</th>\n",
       "      <td>2012-05-01 13:58:13</td>\n",
       "      <td>spellmagotm.wikia.com</td>\n",
       "      <td>5069110.0</td>\n",
       "      <td>NaN</td>\n",
       "      <td>Games</td>\n",
       "      <td>529058</td>\n",
       "      <td>en</td>\n",
       "      <td>en</td>\n",
       "      <td>Spellmagotm Wiki</td>\n",
       "      <td>0</td>\n",
       "      <td>...</td>\n",
       "      <td>275</td>\n",
       "      <td>11</td>\n",
       "      <td>229</td>\n",
       "      <td>16246020</td>\n",
       "      <td>0</td>\n",
       "      <td>Spellmagotm Wiki</td>\n",
       "      <td>Gaming</td>\n",
       "      <td>http://spellmagotm.wikia.com</td>\n",
       "      <td>0.0</td>\n",
       "      <td>221</td>\n",
       "    </tr>\n",
       "    <tr>\n",
       "      <th>1</th>\n",
       "      <td>2017-07-24 22:35:31</td>\n",
       "      <td>2017-monster-energy-nascar-cup-series.wikia.com</td>\n",
       "      <td>32529801.0</td>\n",
       "      <td>NaN</td>\n",
       "      <td>TV</td>\n",
       "      <td>1601247</td>\n",
       "      <td>en</td>\n",
       "      <td>en</td>\n",
       "      <td>2017 Monster Energy NASCAR Cup Series Wiki</td>\n",
       "      <td>0</td>\n",
       "      <td>...</td>\n",
       "      <td>230</td>\n",
       "      <td>40</td>\n",
       "      <td>153</td>\n",
       "      <td>16555972</td>\n",
       "      <td>0</td>\n",
       "      <td>2017 Monster Energy NASCAR Cup Series Wiki</td>\n",
       "      <td>Entertainment</td>\n",
       "      <td>http://2017-monster-energy-nascar-cup-series.w...</td>\n",
       "      <td>0.0</td>\n",
       "      <td>108</td>\n",
       "    </tr>\n",
       "    <tr>\n",
       "      <th>2</th>\n",
       "      <td>2009-09-15 23:21:34</td>\n",
       "      <td>10low46japreligion.wikia.com</td>\n",
       "      <td>1602876.0</td>\n",
       "      <td>NaN</td>\n",
       "      <td>Lifestyle</td>\n",
       "      <td>52061</td>\n",
       "      <td>en</td>\n",
       "      <td>en</td>\n",
       "      <td>Ancient Japanese Religion (Daramalan Assignmen...</td>\n",
       "      <td>0</td>\n",
       "      <td>...</td>\n",
       "      <td>470</td>\n",
       "      <td>20</td>\n",
       "      <td>310</td>\n",
       "      <td>16117576</td>\n",
       "      <td>4</td>\n",
       "      <td>Ancient Japanese Religion (Daramalan Assignmen...</td>\n",
       "      <td>Philosophy</td>\n",
       "      <td>http://10low46japreligion.wikia.com</td>\n",
       "      <td>0.0</td>\n",
       "      <td>239</td>\n",
       "    </tr>\n",
       "    <tr>\n",
       "      <th>3</th>\n",
       "      <td>2018-08-06 19:13:40</td>\n",
       "      <td>de.bibel.wikia.com</td>\n",
       "      <td>36490113.0</td>\n",
       "      <td>NaN</td>\n",
       "      <td>Books</td>\n",
       "      <td>1782059</td>\n",
       "      <td>de</td>\n",
       "      <td>de</td>\n",
       "      <td>Bibel Wiki</td>\n",
       "      <td>2</td>\n",
       "      <td>...</td>\n",
       "      <td>116</td>\n",
       "      <td>0</td>\n",
       "      <td>94</td>\n",
       "      <td>16592250</td>\n",
       "      <td>0</td>\n",
       "      <td>Bibel Wiki</td>\n",
       "      <td>Entertainment</td>\n",
       "      <td>http://de.bibel.wikia.com</td>\n",
       "      <td>0.0</td>\n",
       "      <td>92</td>\n",
       "    </tr>\n",
       "    <tr>\n",
       "      <th>4</th>\n",
       "      <td>2014-05-30 15:43:23</td>\n",
       "      <td>indigo-showdown.wikia.com</td>\n",
       "      <td>25001469.0</td>\n",
       "      <td>NaN</td>\n",
       "      <td>Games</td>\n",
       "      <td>982346</td>\n",
       "      <td>en</td>\n",
       "      <td>en</td>\n",
       "      <td>Indigo showdown Wiki</td>\n",
       "      <td>0</td>\n",
       "      <td>...</td>\n",
       "      <td>242</td>\n",
       "      <td>11</td>\n",
       "      <td>156</td>\n",
       "      <td>16387583</td>\n",
       "      <td>2</td>\n",
       "      <td>Indigo showdown Wiki</td>\n",
       "      <td>Gaming</td>\n",
       "      <td>http://indigo-showdown.wikia.com</td>\n",
       "      <td>0.0</td>\n",
       "      <td>139</td>\n",
       "    </tr>\n",
       "  </tbody>\n",
       "</table>\n",
       "<p>5 rows × 23 columns</p>\n",
       "</div>"
      ],
      "text/plain": [
       "         creation_date                                           domain  \\\n",
       "0  2012-05-01 13:58:13                            spellmagotm.wikia.com   \n",
       "1  2017-07-24 22:35:31  2017-monster-energy-nascar-cup-series.wikia.com   \n",
       "2  2009-09-15 23:21:34                     10low46japreligion.wikia.com   \n",
       "3  2018-08-06 19:13:40                               de.bibel.wikia.com   \n",
       "4  2014-05-30 15:43:23                        indigo-showdown.wikia.com   \n",
       "\n",
       "   founding_user_id headline        hub       id lang language  \\\n",
       "0         5069110.0      NaN      Games   529058   en       en   \n",
       "1        32529801.0      NaN         TV  1601247   en       en   \n",
       "2         1602876.0      NaN  Lifestyle    52061   en       en   \n",
       "3        36490113.0      NaN      Books  1782059   de       de   \n",
       "4        25001469.0      NaN      Games   982346   en       en   \n",
       "\n",
       "                                                name  stats.activeUsers  \\\n",
       "0                                   Spellmagotm Wiki                  0   \n",
       "1         2017 Monster Energy NASCAR Cup Series Wiki                  0   \n",
       "2  Ancient Japanese Religion (Daramalan Assignmen...                  0   \n",
       "3                                         Bibel Wiki                  2   \n",
       "4                               Indigo showdown Wiki                  0   \n",
       "\n",
       "         ...         stats.edits  stats.images  stats.pages  stats.users  \\\n",
       "0        ...                 275            11          229     16246020   \n",
       "1        ...                 230            40          153     16555972   \n",
       "2        ...                 470            20          310     16117576   \n",
       "3        ...                 116             0           94     16592250   \n",
       "4        ...                 242            11          156     16387583   \n",
       "\n",
       "   stats.videos                                              title  \\\n",
       "0             0                                   Spellmagotm Wiki   \n",
       "1             0         2017 Monster Energy NASCAR Cup Series Wiki   \n",
       "2             4  Ancient Japanese Religion (Daramalan Assignmen...   \n",
       "3             0                                         Bibel Wiki   \n",
       "4             2                               Indigo showdown Wiki   \n",
       "\n",
       "           topic                                                url wam_score  \\\n",
       "0         Gaming                       http://spellmagotm.wikia.com       0.0   \n",
       "1  Entertainment  http://2017-monster-energy-nascar-cup-series.w...       0.0   \n",
       "2     Philosophy                http://10low46japreligion.wikia.com       0.0   \n",
       "3  Entertainment                          http://de.bibel.wikia.com       0.0   \n",
       "4         Gaming                   http://indigo-showdown.wikia.com       0.0   \n",
       "\n",
       "  stats.nonarticles  \n",
       "0               221  \n",
       "1               108  \n",
       "2               239  \n",
       "3                92  \n",
       "4               139  \n",
       "\n",
       "[5 rows x 23 columns]"
      ]
     },
     "execution_count": 61,
     "metadata": {},
     "output_type": "execute_result"
    }
   ],
   "source": [
    "# Load stats data\n",
    "dfStats = pd.read_csv(\"../data/20180921-wikia_stats.csv\")\n",
    "dfStats.drop_duplicates(subset=['url'], inplace=True)\n",
    "dfStats.head()"
   ]
  },
  {
   "cell_type": "code",
   "execution_count": 62,
   "metadata": {},
   "outputs": [
    {
     "data": {
      "text/plain": [
       "creation_date        294412\n",
       "domain               294412\n",
       "founding_user_id     294377\n",
       "headline               8267\n",
       "hub                  294412\n",
       "id                   294412\n",
       "lang                 294411\n",
       "language             294411\n",
       "name                 294412\n",
       "stats.activeUsers    294412\n",
       "stats.admins         294412\n",
       "stats.articles       294412\n",
       "stats.discussions    240270\n",
       "stats.edits          294412\n",
       "stats.images         294412\n",
       "stats.pages          294412\n",
       "stats.users          294412\n",
       "stats.videos         294412\n",
       "title                294412\n",
       "topic                284224\n",
       "url                  294412\n",
       "wam_score            294412\n",
       "stats.nonarticles    294412\n",
       "dtype: int64"
      ]
     },
     "execution_count": 62,
     "metadata": {},
     "output_type": "execute_result"
    }
   ],
   "source": [
    "dfStats.count()"
   ]
  },
  {
   "cell_type": "code",
   "execution_count": 63,
   "metadata": {},
   "outputs": [
    {
     "data": {
      "text/html": [
       "<div>\n",
       "<style scoped>\n",
       "    .dataframe tbody tr th:only-of-type {\n",
       "        vertical-align: middle;\n",
       "    }\n",
       "\n",
       "    .dataframe tbody tr th {\n",
       "        vertical-align: top;\n",
       "    }\n",
       "\n",
       "    .dataframe thead th {\n",
       "        text-align: right;\n",
       "    }\n",
       "</style>\n",
       "<table border=\"1\" class=\"dataframe\">\n",
       "  <thead>\n",
       "    <tr style=\"text-align: right;\">\n",
       "      <th></th>\n",
       "      <th>url</th>\n",
       "      <th>id</th>\n",
       "    </tr>\n",
       "  </thead>\n",
       "  <tbody>\n",
       "    <tr>\n",
       "      <th>0</th>\n",
       "      <td>http://spellmagotm.wikia.com</td>\n",
       "      <td>529058</td>\n",
       "    </tr>\n",
       "    <tr>\n",
       "      <th>1</th>\n",
       "      <td>http://2017-monster-energy-nascar-cup-series.w...</td>\n",
       "      <td>1601247</td>\n",
       "    </tr>\n",
       "    <tr>\n",
       "      <th>2</th>\n",
       "      <td>http://10low46japreligion.wikia.com</td>\n",
       "      <td>52061</td>\n",
       "    </tr>\n",
       "    <tr>\n",
       "      <th>3</th>\n",
       "      <td>http://de.bibel.wikia.com</td>\n",
       "      <td>1782059</td>\n",
       "    </tr>\n",
       "    <tr>\n",
       "      <th>4</th>\n",
       "      <td>http://indigo-showdown.wikia.com</td>\n",
       "      <td>982346</td>\n",
       "    </tr>\n",
       "  </tbody>\n",
       "</table>\n",
       "</div>"
      ],
      "text/plain": [
       "                                                 url       id\n",
       "0                       http://spellmagotm.wikia.com   529058\n",
       "1  http://2017-monster-energy-nascar-cup-series.w...  1601247\n",
       "2                http://10low46japreligion.wikia.com    52061\n",
       "3                          http://de.bibel.wikia.com  1782059\n",
       "4                   http://indigo-showdown.wikia.com   982346"
      ]
     },
     "execution_count": 63,
     "metadata": {},
     "output_type": "execute_result"
    }
   ],
   "source": [
    "dfStats[['url', 'id']].head()"
   ]
  },
  {
   "cell_type": "code",
   "execution_count": 64,
   "metadata": {
    "ExecuteTime": {
     "end_time": "2018-05-08T16:14:22.117100Z",
     "start_time": "2018-05-08T16:14:21.060991Z"
    }
   },
   "outputs": [
    {
     "data": {
      "text/html": [
       "<div>\n",
       "<style scoped>\n",
       "    .dataframe tbody tr th:only-of-type {\n",
       "        vertical-align: middle;\n",
       "    }\n",
       "\n",
       "    .dataframe tbody tr th {\n",
       "        vertical-align: top;\n",
       "    }\n",
       "\n",
       "    .dataframe thead th {\n",
       "        text-align: right;\n",
       "    }\n",
       "</style>\n",
       "<table border=\"1\" class=\"dataframe\">\n",
       "  <thead>\n",
       "    <tr style=\"text-align: right;\">\n",
       "      <th></th>\n",
       "      <th>url</th>\n",
       "    </tr>\n",
       "  </thead>\n",
       "  <tbody>\n",
       "    <tr>\n",
       "      <th>0</th>\n",
       "      <td>http://spellmagotm.wikia.com/</td>\n",
       "    </tr>\n",
       "    <tr>\n",
       "      <th>1</th>\n",
       "      <td>http://2017-monster-energy-nascar-cup-series.w...</td>\n",
       "    </tr>\n",
       "    <tr>\n",
       "      <th>2</th>\n",
       "      <td>http://10low46japreligion.wikia.com/</td>\n",
       "    </tr>\n",
       "    <tr>\n",
       "      <th>3</th>\n",
       "      <td>http://de.bibel.wikia.com/</td>\n",
       "    </tr>\n",
       "    <tr>\n",
       "      <th>4</th>\n",
       "      <td>http://indigo-showdown.wikia.com/</td>\n",
       "    </tr>\n",
       "  </tbody>\n",
       "</table>\n",
       "</div>"
      ],
      "text/plain": [
       "                                                 url\n",
       "0                      http://spellmagotm.wikia.com/\n",
       "1  http://2017-monster-energy-nascar-cup-series.w...\n",
       "2               http://10low46japreligion.wikia.com/\n",
       "3                         http://de.bibel.wikia.com/\n",
       "4                  http://indigo-showdown.wikia.com/"
      ]
     },
     "execution_count": 64,
     "metadata": {},
     "output_type": "execute_result"
    }
   ],
   "source": [
    "dfIndex = pd.read_csv(\"../data/20180917-curatedIndex.txt\", header=None, names=['url'])\n",
    "dfIndex.drop_duplicates(inplace=True)\n",
    "\n",
    "dfIndex.head()"
   ]
  },
  {
   "cell_type": "code",
   "execution_count": 65,
   "metadata": {},
   "outputs": [
    {
     "data": {
      "text/html": [
       "<div>\n",
       "<style scoped>\n",
       "    .dataframe tbody tr th:only-of-type {\n",
       "        vertical-align: middle;\n",
       "    }\n",
       "\n",
       "    .dataframe tbody tr th {\n",
       "        vertical-align: top;\n",
       "    }\n",
       "\n",
       "    .dataframe thead th {\n",
       "        text-align: right;\n",
       "    }\n",
       "</style>\n",
       "<table border=\"1\" class=\"dataframe\">\n",
       "  <thead>\n",
       "    <tr style=\"text-align: right;\">\n",
       "      <th></th>\n",
       "      <th>url</th>\n",
       "    </tr>\n",
       "  </thead>\n",
       "  <tbody>\n",
       "    <tr>\n",
       "      <th>0</th>\n",
       "      <td>http://spellmagotm.wikia.com</td>\n",
       "    </tr>\n",
       "    <tr>\n",
       "      <th>1</th>\n",
       "      <td>http://2017-monster-energy-nascar-cup-series.w...</td>\n",
       "    </tr>\n",
       "    <tr>\n",
       "      <th>2</th>\n",
       "      <td>http://10low46japreligion.wikia.com</td>\n",
       "    </tr>\n",
       "    <tr>\n",
       "      <th>3</th>\n",
       "      <td>http://de.bibel.wikia.com</td>\n",
       "    </tr>\n",
       "    <tr>\n",
       "      <th>4</th>\n",
       "      <td>http://indigo-showdown.wikia.com</td>\n",
       "    </tr>\n",
       "  </tbody>\n",
       "</table>\n",
       "</div>"
      ],
      "text/plain": [
       "                                                 url\n",
       "0                       http://spellmagotm.wikia.com\n",
       "1  http://2017-monster-energy-nascar-cup-series.w...\n",
       "2                http://10low46japreligion.wikia.com\n",
       "3                          http://de.bibel.wikia.com\n",
       "4                   http://indigo-showdown.wikia.com"
      ]
     },
     "execution_count": 65,
     "metadata": {},
     "output_type": "execute_result"
    }
   ],
   "source": [
    "# Remove trailing slash / in case there is at the end of urls\n",
    "dfIndex['url'] = dfIndex['url'].apply(remove_trailing_slash)\n",
    "dfIndex.head()"
   ]
  },
  {
   "cell_type": "code",
   "execution_count": 66,
   "metadata": {
    "ExecuteTime": {
     "end_time": "2018-05-08T16:14:22.117100Z",
     "start_time": "2018-05-08T16:14:21.060991Z"
    }
   },
   "outputs": [
    {
     "data": {
      "text/html": [
       "<div>\n",
       "<style scoped>\n",
       "    .dataframe tbody tr th:only-of-type {\n",
       "        vertical-align: middle;\n",
       "    }\n",
       "\n",
       "    .dataframe tbody tr th {\n",
       "        vertical-align: top;\n",
       "    }\n",
       "\n",
       "    .dataframe thead th {\n",
       "        text-align: right;\n",
       "    }\n",
       "</style>\n",
       "<table border=\"1\" class=\"dataframe\">\n",
       "  <thead>\n",
       "    <tr style=\"text-align: right;\">\n",
       "      <th></th>\n",
       "      <th>url</th>\n",
       "      <th>id</th>\n",
       "    </tr>\n",
       "  </thead>\n",
       "  <tbody>\n",
       "    <tr>\n",
       "      <th>0</th>\n",
       "      <td>http://spellmagotm.wikia.com</td>\n",
       "      <td>529058.0</td>\n",
       "    </tr>\n",
       "    <tr>\n",
       "      <th>1</th>\n",
       "      <td>http://2017-monster-energy-nascar-cup-series.w...</td>\n",
       "      <td>1601247.0</td>\n",
       "    </tr>\n",
       "    <tr>\n",
       "      <th>2</th>\n",
       "      <td>http://10low46japreligion.wikia.com</td>\n",
       "      <td>52061.0</td>\n",
       "    </tr>\n",
       "    <tr>\n",
       "      <th>3</th>\n",
       "      <td>http://de.bibel.wikia.com</td>\n",
       "      <td>1782059.0</td>\n",
       "    </tr>\n",
       "    <tr>\n",
       "      <th>4</th>\n",
       "      <td>http://indigo-showdown.wikia.com</td>\n",
       "      <td>982346.0</td>\n",
       "    </tr>\n",
       "  </tbody>\n",
       "</table>\n",
       "</div>"
      ],
      "text/plain": [
       "                                                 url         id\n",
       "0                       http://spellmagotm.wikia.com   529058.0\n",
       "1  http://2017-monster-energy-nascar-cup-series.w...  1601247.0\n",
       "2                http://10low46japreligion.wikia.com    52061.0\n",
       "3                          http://de.bibel.wikia.com  1782059.0\n",
       "4                   http://indigo-showdown.wikia.com   982346.0"
      ]
     },
     "execution_count": 66,
     "metadata": {},
     "output_type": "execute_result"
    }
   ],
   "source": [
    "# Merge index and stats in order to identify the wikis without stats according to the Wikia API\n",
    "mergedStatUserData = pd.merge(dfIndex, dfStats[['url', 'id']], how='left', on='url')\n",
    "mergedStatUserData.head()"
   ]
  },
  {
   "cell_type": "code",
   "execution_count": 67,
   "metadata": {
    "ExecuteTime": {
     "end_time": "2018-05-08T16:14:23.808161Z",
     "start_time": "2018-05-08T16:14:23.416713Z"
    }
   },
   "outputs": [
    {
     "data": {
      "text/html": [
       "<div>\n",
       "<style scoped>\n",
       "    .dataframe tbody tr th:only-of-type {\n",
       "        vertical-align: middle;\n",
       "    }\n",
       "\n",
       "    .dataframe tbody tr th {\n",
       "        vertical-align: top;\n",
       "    }\n",
       "\n",
       "    .dataframe thead th {\n",
       "        text-align: right;\n",
       "    }\n",
       "</style>\n",
       "<table border=\"1\" class=\"dataframe\">\n",
       "  <thead>\n",
       "    <tr style=\"text-align: right;\">\n",
       "      <th></th>\n",
       "      <th>url</th>\n",
       "      <th>id</th>\n",
       "      <th>users_1</th>\n",
       "    </tr>\n",
       "  </thead>\n",
       "  <tbody>\n",
       "    <tr>\n",
       "      <th>0</th>\n",
       "      <td>http://spellmagotm.wikia.com</td>\n",
       "      <td>529058.0</td>\n",
       "      <td>5.0</td>\n",
       "    </tr>\n",
       "    <tr>\n",
       "      <th>1</th>\n",
       "      <td>http://2017-monster-energy-nascar-cup-series.w...</td>\n",
       "      <td>1601247.0</td>\n",
       "      <td>6.0</td>\n",
       "    </tr>\n",
       "    <tr>\n",
       "      <th>2</th>\n",
       "      <td>http://10low46japreligion.wikia.com</td>\n",
       "      <td>52061.0</td>\n",
       "      <td>7.0</td>\n",
       "    </tr>\n",
       "    <tr>\n",
       "      <th>3</th>\n",
       "      <td>http://de.bibel.wikia.com</td>\n",
       "      <td>1782059.0</td>\n",
       "      <td>4.0</td>\n",
       "    </tr>\n",
       "    <tr>\n",
       "      <th>4</th>\n",
       "      <td>http://indigo-showdown.wikia.com</td>\n",
       "      <td>982346.0</td>\n",
       "      <td>9.0</td>\n",
       "    </tr>\n",
       "  </tbody>\n",
       "</table>\n",
       "</div>"
      ],
      "text/plain": [
       "                                                 url         id  users_1\n",
       "0                       http://spellmagotm.wikia.com   529058.0      5.0\n",
       "1  http://2017-monster-energy-nascar-cup-series.w...  1601247.0      6.0\n",
       "2                http://10low46japreligion.wikia.com    52061.0      7.0\n",
       "3                          http://de.bibel.wikia.com  1782059.0      4.0\n",
       "4                   http://indigo-showdown.wikia.com   982346.0      9.0"
      ]
     },
     "execution_count": 67,
     "metadata": {},
     "output_type": "execute_result"
    }
   ],
   "source": [
    "# Merge index, stats and users in order to identify the wikis without stats or without users' information\n",
    "mergedStatUserData = pd.merge(mergedStatUserData, dfUsers[['url', 'users_1']], how='left', on='url')\n",
    "mergedStatUserData.head()"
   ]
  },
  {
   "cell_type": "code",
   "execution_count": 68,
   "metadata": {
    "ExecuteTime": {
     "end_time": "2018-05-08T16:14:26.852318Z",
     "start_time": "2018-05-08T16:14:26.803799Z"
    }
   },
   "outputs": [
    {
     "name": "stdout",
     "output_type": "stream",
     "text": [
      "Wikia Index size: 295660\n",
      "  Wikis with stats: 294409\n",
      "  Wikis with number of users: 290602\n",
      "  Wikis with stats AND number of users: 290465\n"
     ]
    }
   ],
   "source": [
    "print('Wikia Index size: {}'.format(len(dfIndex)))\n",
    "print('  Wikis with stats: {}'.format(len(mergedStatUserData[~mergedStatUserData['id'].isna()])))\n",
    "print('  Wikis with number of users: {}'.format(len(mergedStatUserData[~mergedStatUserData['users_1'].isna()])))\n",
    "print('  Wikis with stats AND number of users: {}'.format(len(mergedStatUserData[(~mergedStatUserData['id'].isna()) & (~mergedStatUserData['users_1'].isna())])))"
   ]
  },
  {
   "cell_type": "code",
   "execution_count": 69,
   "metadata": {
    "ExecuteTime": {
     "end_time": "2018-05-08T16:14:42.705174Z",
     "start_time": "2018-05-08T16:14:42.167170Z"
    }
   },
   "outputs": [
    {
     "data": {
      "text/html": [
       "<div>\n",
       "<style scoped>\n",
       "    .dataframe tbody tr th:only-of-type {\n",
       "        vertical-align: middle;\n",
       "    }\n",
       "\n",
       "    .dataframe tbody tr th {\n",
       "        vertical-align: top;\n",
       "    }\n",
       "\n",
       "    .dataframe thead th {\n",
       "        text-align: right;\n",
       "    }\n",
       "</style>\n",
       "<table border=\"1\" class=\"dataframe\">\n",
       "  <thead>\n",
       "    <tr style=\"text-align: right;\">\n",
       "      <th></th>\n",
       "      <th>url</th>\n",
       "      <th>creation_date</th>\n",
       "      <th>domain</th>\n",
       "      <th>founding_user_id</th>\n",
       "      <th>headline</th>\n",
       "      <th>hub</th>\n",
       "      <th>id</th>\n",
       "      <th>lang</th>\n",
       "      <th>language</th>\n",
       "      <th>name</th>\n",
       "      <th>...</th>\n",
       "      <th>topic</th>\n",
       "      <th>wam_score</th>\n",
       "      <th>stats.nonarticles</th>\n",
       "      <th>users_1</th>\n",
       "      <th>users_5</th>\n",
       "      <th>users_10</th>\n",
       "      <th>users_20</th>\n",
       "      <th>users_50</th>\n",
       "      <th>users_100</th>\n",
       "      <th>bots</th>\n",
       "    </tr>\n",
       "  </thead>\n",
       "  <tbody>\n",
       "    <tr>\n",
       "      <th>0</th>\n",
       "      <td>http://spellmagotm.wikia.com</td>\n",
       "      <td>2012-05-01 13:58:13</td>\n",
       "      <td>spellmagotm.wikia.com</td>\n",
       "      <td>5069110.0</td>\n",
       "      <td>NaN</td>\n",
       "      <td>Games</td>\n",
       "      <td>529058.0</td>\n",
       "      <td>en</td>\n",
       "      <td>en</td>\n",
       "      <td>Spellmagotm Wiki</td>\n",
       "      <td>...</td>\n",
       "      <td>Gaming</td>\n",
       "      <td>0.0</td>\n",
       "      <td>221.0</td>\n",
       "      <td>5</td>\n",
       "      <td>1</td>\n",
       "      <td>1</td>\n",
       "      <td>1</td>\n",
       "      <td>1</td>\n",
       "      <td>0</td>\n",
       "      <td>5</td>\n",
       "    </tr>\n",
       "    <tr>\n",
       "      <th>1</th>\n",
       "      <td>http://2017-monster-energy-nascar-cup-series.w...</td>\n",
       "      <td>2017-07-24 22:35:31</td>\n",
       "      <td>2017-monster-energy-nascar-cup-series.wikia.com</td>\n",
       "      <td>32529801.0</td>\n",
       "      <td>NaN</td>\n",
       "      <td>TV</td>\n",
       "      <td>1601247.0</td>\n",
       "      <td>en</td>\n",
       "      <td>en</td>\n",
       "      <td>2017 Monster Energy NASCAR Cup Series Wiki</td>\n",
       "      <td>...</td>\n",
       "      <td>Entertainment</td>\n",
       "      <td>0.0</td>\n",
       "      <td>108.0</td>\n",
       "      <td>6</td>\n",
       "      <td>3</td>\n",
       "      <td>1</td>\n",
       "      <td>1</td>\n",
       "      <td>1</td>\n",
       "      <td>1</td>\n",
       "      <td>4</td>\n",
       "    </tr>\n",
       "    <tr>\n",
       "      <th>2</th>\n",
       "      <td>http://10low46japreligion.wikia.com</td>\n",
       "      <td>2009-09-15 23:21:34</td>\n",
       "      <td>10low46japreligion.wikia.com</td>\n",
       "      <td>1602876.0</td>\n",
       "      <td>NaN</td>\n",
       "      <td>Lifestyle</td>\n",
       "      <td>52061.0</td>\n",
       "      <td>en</td>\n",
       "      <td>en</td>\n",
       "      <td>Ancient Japanese Religion (Daramalan Assignmen...</td>\n",
       "      <td>...</td>\n",
       "      <td>Philosophy</td>\n",
       "      <td>0.0</td>\n",
       "      <td>239.0</td>\n",
       "      <td>7</td>\n",
       "      <td>2</td>\n",
       "      <td>1</td>\n",
       "      <td>1</td>\n",
       "      <td>1</td>\n",
       "      <td>1</td>\n",
       "      <td>5</td>\n",
       "    </tr>\n",
       "    <tr>\n",
       "      <th>3</th>\n",
       "      <td>http://de.bibel.wikia.com</td>\n",
       "      <td>2018-08-06 19:13:40</td>\n",
       "      <td>de.bibel.wikia.com</td>\n",
       "      <td>36490113.0</td>\n",
       "      <td>NaN</td>\n",
       "      <td>Books</td>\n",
       "      <td>1782059.0</td>\n",
       "      <td>de</td>\n",
       "      <td>de</td>\n",
       "      <td>Bibel Wiki</td>\n",
       "      <td>...</td>\n",
       "      <td>Entertainment</td>\n",
       "      <td>0.0</td>\n",
       "      <td>92.0</td>\n",
       "      <td>4</td>\n",
       "      <td>1</td>\n",
       "      <td>1</td>\n",
       "      <td>1</td>\n",
       "      <td>0</td>\n",
       "      <td>0</td>\n",
       "      <td>2</td>\n",
       "    </tr>\n",
       "    <tr>\n",
       "      <th>4</th>\n",
       "      <td>http://indigo-showdown.wikia.com</td>\n",
       "      <td>2014-05-30 15:43:23</td>\n",
       "      <td>indigo-showdown.wikia.com</td>\n",
       "      <td>25001469.0</td>\n",
       "      <td>NaN</td>\n",
       "      <td>Games</td>\n",
       "      <td>982346.0</td>\n",
       "      <td>en</td>\n",
       "      <td>en</td>\n",
       "      <td>Indigo showdown Wiki</td>\n",
       "      <td>...</td>\n",
       "      <td>Gaming</td>\n",
       "      <td>0.0</td>\n",
       "      <td>139.0</td>\n",
       "      <td>9</td>\n",
       "      <td>4</td>\n",
       "      <td>3</td>\n",
       "      <td>3</td>\n",
       "      <td>1</td>\n",
       "      <td>0</td>\n",
       "      <td>5</td>\n",
       "    </tr>\n",
       "  </tbody>\n",
       "</table>\n",
       "<p>5 rows × 30 columns</p>\n",
       "</div>"
      ],
      "text/plain": [
       "                                                 url        creation_date  \\\n",
       "0                       http://spellmagotm.wikia.com  2012-05-01 13:58:13   \n",
       "1  http://2017-monster-energy-nascar-cup-series.w...  2017-07-24 22:35:31   \n",
       "2                http://10low46japreligion.wikia.com  2009-09-15 23:21:34   \n",
       "3                          http://de.bibel.wikia.com  2018-08-06 19:13:40   \n",
       "4                   http://indigo-showdown.wikia.com  2014-05-30 15:43:23   \n",
       "\n",
       "                                            domain  founding_user_id headline  \\\n",
       "0                            spellmagotm.wikia.com         5069110.0      NaN   \n",
       "1  2017-monster-energy-nascar-cup-series.wikia.com        32529801.0      NaN   \n",
       "2                     10low46japreligion.wikia.com         1602876.0      NaN   \n",
       "3                               de.bibel.wikia.com        36490113.0      NaN   \n",
       "4                        indigo-showdown.wikia.com        25001469.0      NaN   \n",
       "\n",
       "         hub         id lang language  \\\n",
       "0      Games   529058.0   en       en   \n",
       "1         TV  1601247.0   en       en   \n",
       "2  Lifestyle    52061.0   en       en   \n",
       "3      Books  1782059.0   de       de   \n",
       "4      Games   982346.0   en       en   \n",
       "\n",
       "                                                name ...           topic  \\\n",
       "0                                   Spellmagotm Wiki ...          Gaming   \n",
       "1         2017 Monster Energy NASCAR Cup Series Wiki ...   Entertainment   \n",
       "2  Ancient Japanese Religion (Daramalan Assignmen... ...      Philosophy   \n",
       "3                                         Bibel Wiki ...   Entertainment   \n",
       "4                               Indigo showdown Wiki ...          Gaming   \n",
       "\n",
       "   wam_score  stats.nonarticles  users_1  users_5  users_10  users_20  \\\n",
       "0        0.0              221.0        5        1         1         1   \n",
       "1        0.0              108.0        6        3         1         1   \n",
       "2        0.0              239.0        7        2         1         1   \n",
       "3        0.0               92.0        4        1         1         1   \n",
       "4        0.0              139.0        9        4         3         3   \n",
       "\n",
       "   users_50  users_100 bots  \n",
       "0         1          0    5  \n",
       "1         1          1    4  \n",
       "2         1          1    5  \n",
       "3         0          0    2  \n",
       "4         1          0    5  \n",
       "\n",
       "[5 rows x 30 columns]"
      ]
     },
     "execution_count": 69,
     "metadata": {},
     "output_type": "execute_result"
    }
   ],
   "source": [
    "dfStatsUsers = pd.merge(dfIndex, dfStats, how='left', on=['url'])\n",
    "dfStatsUsers = pd.merge(dfStatsUsers, dfUsers, how='inner', on=['url'])\n",
    "dfStatsUsers.dropna(subset=['id'], inplace=True)\n",
    "\n",
    "dfStatsUsers.head()"
   ]
  },
  {
   "cell_type": "code",
   "execution_count": 70,
   "metadata": {
    "ExecuteTime": {
     "end_time": "2018-05-08T16:19:39.999303Z",
     "start_time": "2018-05-08T16:19:31.147090Z"
    }
   },
   "outputs": [],
   "source": [
    "# Save to CSV\n",
    "import time\n",
    "timestr = time.strftime(\"%Y%m%d\")\n",
    "dfStatsUsers.to_csv('../data/{}-wikia_stats_users.csv'.format(timestr), index=False)"
   ]
  },
  {
   "cell_type": "markdown",
   "metadata": {},
   "source": [
    "# Aggregating birthdate"
   ]
  },
  {
   "cell_type": "code",
   "execution_count": 90,
   "metadata": {
    "ExecuteTime": {
     "end_time": "2018-05-08T16:22:51.882842Z",
     "start_time": "2018-05-08T16:22:49.753116Z"
    }
   },
   "outputs": [
    {
     "data": {
      "text/html": [
       "<div>\n",
       "<style scoped>\n",
       "    .dataframe tbody tr th:only-of-type {\n",
       "        vertical-align: middle;\n",
       "    }\n",
       "\n",
       "    .dataframe tbody tr th {\n",
       "        vertical-align: top;\n",
       "    }\n",
       "\n",
       "    .dataframe thead th {\n",
       "        text-align: right;\n",
       "    }\n",
       "</style>\n",
       "<table border=\"1\" class=\"dataframe\">\n",
       "  <thead>\n",
       "    <tr style=\"text-align: right;\">\n",
       "      <th></th>\n",
       "      <th>url</th>\n",
       "      <th>birthDate</th>\n",
       "      <th>datetime.birthDate</th>\n",
       "    </tr>\n",
       "  </thead>\n",
       "  <tbody>\n",
       "    <tr>\n",
       "      <th>0</th>\n",
       "      <td>http://spellmagotm.wikia.com</td>\n",
       "      <td>14:14, May 1, 2012</td>\n",
       "      <td>2012-05-01 14:14:00</td>\n",
       "    </tr>\n",
       "    <tr>\n",
       "      <th>1</th>\n",
       "      <td>http://2017-monster-energy-nascar-cup-series.w...</td>\n",
       "      <td>22:35, July 24, 2017</td>\n",
       "      <td>2017-07-24 22:35:00</td>\n",
       "    </tr>\n",
       "    <tr>\n",
       "      <th>2</th>\n",
       "      <td>http://10low46japreligion.wikia.com</td>\n",
       "      <td>23:21, September 15, 2009</td>\n",
       "      <td>2009-09-15 23:21:00</td>\n",
       "    </tr>\n",
       "    <tr>\n",
       "      <th>3</th>\n",
       "      <td>http://de.bibel.wikia.com</td>\n",
       "      <td>19:14, 6. Aug. 2018</td>\n",
       "      <td>NaT</td>\n",
       "    </tr>\n",
       "    <tr>\n",
       "      <th>4</th>\n",
       "      <td>http://indigo-showdown.wikia.com</td>\n",
       "      <td>15:43, May 30, 2014</td>\n",
       "      <td>2014-05-30 15:43:00</td>\n",
       "    </tr>\n",
       "  </tbody>\n",
       "</table>\n",
       "</div>"
      ],
      "text/plain": [
       "                                                 url  \\\n",
       "0                       http://spellmagotm.wikia.com   \n",
       "1  http://2017-monster-energy-nascar-cup-series.w...   \n",
       "2                http://10low46japreligion.wikia.com   \n",
       "3                          http://de.bibel.wikia.com   \n",
       "4                   http://indigo-showdown.wikia.com   \n",
       "\n",
       "                   birthDate  datetime.birthDate  \n",
       "0         14:14, May 1, 2012 2012-05-01 14:14:00  \n",
       "1       22:35, July 24, 2017 2017-07-24 22:35:00  \n",
       "2  23:21, September 15, 2009 2009-09-15 23:21:00  \n",
       "3        19:14, 6. Aug. 2018                 NaT  \n",
       "4        15:43, May 30, 2014 2014-05-30 15:43:00  "
      ]
     },
     "execution_count": 90,
     "metadata": {},
     "output_type": "execute_result"
    }
   ],
   "source": [
    "# Load birthdate data\n",
    "dfBirthDate = pd.read_csv(\"../data/20180919-wikia_birthdate.csv\", names = ['url', 'birthDate'], header=0, usecols=['url', 'birthDate'])\n",
    "dfBirthDate.drop_duplicates(subset=['url'], inplace=True)\n",
    "# Remove trailing slash / in case there is at the end of urls\n",
    "dfBirthDate['url'] = dfBirthDate['url'].apply(remove_trailing_slash)\n",
    "\n",
    "# Create a new column with the birthdate in datetime format\n",
    "dfBirthDate['datetime.birthDate'] = pd.to_datetime(dfBirthDate['birthDate'], infer_datetime_format=True, errors='coerce') \n",
    "dfBirthDate.head()"
   ]
  },
  {
   "cell_type": "code",
   "execution_count": 91,
   "metadata": {},
   "outputs": [
    {
     "data": {
      "text/html": [
       "<div>\n",
       "<style scoped>\n",
       "    .dataframe tbody tr th:only-of-type {\n",
       "        vertical-align: middle;\n",
       "    }\n",
       "\n",
       "    .dataframe tbody tr th {\n",
       "        vertical-align: top;\n",
       "    }\n",
       "\n",
       "    .dataframe thead th {\n",
       "        text-align: right;\n",
       "    }\n",
       "</style>\n",
       "<table border=\"1\" class=\"dataframe\">\n",
       "  <thead>\n",
       "    <tr style=\"text-align: right;\">\n",
       "      <th></th>\n",
       "      <th>url</th>\n",
       "      <th>birthDate</th>\n",
       "      <th>datetime.birthDate</th>\n",
       "    </tr>\n",
       "  </thead>\n",
       "  <tbody>\n",
       "    <tr>\n",
       "      <th>0</th>\n",
       "      <td>http://spellmagotm.wikia.com</td>\n",
       "      <td>14:14, May 1, 2012</td>\n",
       "      <td>2012-05-01 14:14:00</td>\n",
       "    </tr>\n",
       "    <tr>\n",
       "      <th>1</th>\n",
       "      <td>http://2017-monster-energy-nascar-cup-series.w...</td>\n",
       "      <td>22:35, July 24, 2017</td>\n",
       "      <td>2017-07-24 22:35:00</td>\n",
       "    </tr>\n",
       "    <tr>\n",
       "      <th>2</th>\n",
       "      <td>http://10low46japreligion.wikia.com</td>\n",
       "      <td>23:21, September 15, 2009</td>\n",
       "      <td>2009-09-15 23:21:00</td>\n",
       "    </tr>\n",
       "    <tr>\n",
       "      <th>3</th>\n",
       "      <td>http://de.bibel.wikia.com</td>\n",
       "      <td>19:14, 6. Aug. 2018</td>\n",
       "      <td>NaT</td>\n",
       "    </tr>\n",
       "    <tr>\n",
       "      <th>4</th>\n",
       "      <td>http://indigo-showdown.wikia.com</td>\n",
       "      <td>15:43, May 30, 2014</td>\n",
       "      <td>2014-05-30 15:43:00</td>\n",
       "    </tr>\n",
       "  </tbody>\n",
       "</table>\n",
       "</div>"
      ],
      "text/plain": [
       "                                                 url  \\\n",
       "0                       http://spellmagotm.wikia.com   \n",
       "1  http://2017-monster-energy-nascar-cup-series.w...   \n",
       "2                http://10low46japreligion.wikia.com   \n",
       "3                          http://de.bibel.wikia.com   \n",
       "4                   http://indigo-showdown.wikia.com   \n",
       "\n",
       "                   birthDate  datetime.birthDate  \n",
       "0         14:14, May 1, 2012 2012-05-01 14:14:00  \n",
       "1       22:35, July 24, 2017 2017-07-24 22:35:00  \n",
       "2  23:21, September 15, 2009 2009-09-15 23:21:00  \n",
       "3        19:14, 6. Aug. 2018                 NaT  \n",
       "4        15:43, May 30, 2014 2014-05-30 15:43:00  "
      ]
     },
     "execution_count": 91,
     "metadata": {},
     "output_type": "execute_result"
    }
   ],
   "source": [
    "mergedBirthData = pd.merge(dfIndex, dfBirthDate, how='left', on=['url'])\n",
    "mergedBirthData.head()"
   ]
  },
  {
   "cell_type": "code",
   "execution_count": 92,
   "metadata": {
    "ExecuteTime": {
     "end_time": "2018-05-08T16:23:46.867057Z",
     "start_time": "2018-05-08T16:23:46.362368Z"
    }
   },
   "outputs": [
    {
     "data": {
      "text/html": [
       "<div>\n",
       "<style scoped>\n",
       "    .dataframe tbody tr th:only-of-type {\n",
       "        vertical-align: middle;\n",
       "    }\n",
       "\n",
       "    .dataframe tbody tr th {\n",
       "        vertical-align: top;\n",
       "    }\n",
       "\n",
       "    .dataframe thead th {\n",
       "        text-align: right;\n",
       "    }\n",
       "</style>\n",
       "<table border=\"1\" class=\"dataframe\">\n",
       "  <thead>\n",
       "    <tr style=\"text-align: right;\">\n",
       "      <th></th>\n",
       "      <th>url</th>\n",
       "      <th>creation_date</th>\n",
       "      <th>domain</th>\n",
       "      <th>founding_user_id</th>\n",
       "      <th>headline</th>\n",
       "      <th>hub</th>\n",
       "      <th>id</th>\n",
       "      <th>lang</th>\n",
       "      <th>language</th>\n",
       "      <th>name</th>\n",
       "      <th>...</th>\n",
       "      <th>stats.nonarticles</th>\n",
       "      <th>users_1</th>\n",
       "      <th>users_5</th>\n",
       "      <th>users_10</th>\n",
       "      <th>users_20</th>\n",
       "      <th>users_50</th>\n",
       "      <th>users_100</th>\n",
       "      <th>bots</th>\n",
       "      <th>birthDate</th>\n",
       "      <th>datetime.birthDate</th>\n",
       "    </tr>\n",
       "  </thead>\n",
       "  <tbody>\n",
       "    <tr>\n",
       "      <th>0</th>\n",
       "      <td>http://spellmagotm.wikia.com</td>\n",
       "      <td>2012-05-01 13:58:13</td>\n",
       "      <td>spellmagotm.wikia.com</td>\n",
       "      <td>5069110.0</td>\n",
       "      <td>NaN</td>\n",
       "      <td>Games</td>\n",
       "      <td>529058.0</td>\n",
       "      <td>en</td>\n",
       "      <td>en</td>\n",
       "      <td>Spellmagotm Wiki</td>\n",
       "      <td>...</td>\n",
       "      <td>221.0</td>\n",
       "      <td>5</td>\n",
       "      <td>1</td>\n",
       "      <td>1</td>\n",
       "      <td>1</td>\n",
       "      <td>1</td>\n",
       "      <td>0</td>\n",
       "      <td>5</td>\n",
       "      <td>14:14, May 1, 2012</td>\n",
       "      <td>2012-05-01 14:14:00</td>\n",
       "    </tr>\n",
       "    <tr>\n",
       "      <th>1</th>\n",
       "      <td>http://2017-monster-energy-nascar-cup-series.w...</td>\n",
       "      <td>2017-07-24 22:35:31</td>\n",
       "      <td>2017-monster-energy-nascar-cup-series.wikia.com</td>\n",
       "      <td>32529801.0</td>\n",
       "      <td>NaN</td>\n",
       "      <td>TV</td>\n",
       "      <td>1601247.0</td>\n",
       "      <td>en</td>\n",
       "      <td>en</td>\n",
       "      <td>2017 Monster Energy NASCAR Cup Series Wiki</td>\n",
       "      <td>...</td>\n",
       "      <td>108.0</td>\n",
       "      <td>6</td>\n",
       "      <td>3</td>\n",
       "      <td>1</td>\n",
       "      <td>1</td>\n",
       "      <td>1</td>\n",
       "      <td>1</td>\n",
       "      <td>4</td>\n",
       "      <td>22:35, July 24, 2017</td>\n",
       "      <td>2017-07-24 22:35:00</td>\n",
       "    </tr>\n",
       "    <tr>\n",
       "      <th>2</th>\n",
       "      <td>http://10low46japreligion.wikia.com</td>\n",
       "      <td>2009-09-15 23:21:34</td>\n",
       "      <td>10low46japreligion.wikia.com</td>\n",
       "      <td>1602876.0</td>\n",
       "      <td>NaN</td>\n",
       "      <td>Lifestyle</td>\n",
       "      <td>52061.0</td>\n",
       "      <td>en</td>\n",
       "      <td>en</td>\n",
       "      <td>Ancient Japanese Religion (Daramalan Assignmen...</td>\n",
       "      <td>...</td>\n",
       "      <td>239.0</td>\n",
       "      <td>7</td>\n",
       "      <td>2</td>\n",
       "      <td>1</td>\n",
       "      <td>1</td>\n",
       "      <td>1</td>\n",
       "      <td>1</td>\n",
       "      <td>5</td>\n",
       "      <td>23:21, September 15, 2009</td>\n",
       "      <td>2009-09-15 23:21:00</td>\n",
       "    </tr>\n",
       "    <tr>\n",
       "      <th>3</th>\n",
       "      <td>http://de.bibel.wikia.com</td>\n",
       "      <td>2018-08-06 19:13:40</td>\n",
       "      <td>de.bibel.wikia.com</td>\n",
       "      <td>36490113.0</td>\n",
       "      <td>NaN</td>\n",
       "      <td>Books</td>\n",
       "      <td>1782059.0</td>\n",
       "      <td>de</td>\n",
       "      <td>de</td>\n",
       "      <td>Bibel Wiki</td>\n",
       "      <td>...</td>\n",
       "      <td>92.0</td>\n",
       "      <td>4</td>\n",
       "      <td>1</td>\n",
       "      <td>1</td>\n",
       "      <td>1</td>\n",
       "      <td>0</td>\n",
       "      <td>0</td>\n",
       "      <td>2</td>\n",
       "      <td>19:14, 6. Aug. 2018</td>\n",
       "      <td>NaT</td>\n",
       "    </tr>\n",
       "    <tr>\n",
       "      <th>4</th>\n",
       "      <td>http://indigo-showdown.wikia.com</td>\n",
       "      <td>2014-05-30 15:43:23</td>\n",
       "      <td>indigo-showdown.wikia.com</td>\n",
       "      <td>25001469.0</td>\n",
       "      <td>NaN</td>\n",
       "      <td>Games</td>\n",
       "      <td>982346.0</td>\n",
       "      <td>en</td>\n",
       "      <td>en</td>\n",
       "      <td>Indigo showdown Wiki</td>\n",
       "      <td>...</td>\n",
       "      <td>139.0</td>\n",
       "      <td>9</td>\n",
       "      <td>4</td>\n",
       "      <td>3</td>\n",
       "      <td>3</td>\n",
       "      <td>1</td>\n",
       "      <td>0</td>\n",
       "      <td>5</td>\n",
       "      <td>15:43, May 30, 2014</td>\n",
       "      <td>2014-05-30 15:43:00</td>\n",
       "    </tr>\n",
       "  </tbody>\n",
       "</table>\n",
       "<p>5 rows × 32 columns</p>\n",
       "</div>"
      ],
      "text/plain": [
       "                                                 url        creation_date  \\\n",
       "0                       http://spellmagotm.wikia.com  2012-05-01 13:58:13   \n",
       "1  http://2017-monster-energy-nascar-cup-series.w...  2017-07-24 22:35:31   \n",
       "2                http://10low46japreligion.wikia.com  2009-09-15 23:21:34   \n",
       "3                          http://de.bibel.wikia.com  2018-08-06 19:13:40   \n",
       "4                   http://indigo-showdown.wikia.com  2014-05-30 15:43:23   \n",
       "\n",
       "                                            domain  founding_user_id headline  \\\n",
       "0                            spellmagotm.wikia.com         5069110.0      NaN   \n",
       "1  2017-monster-energy-nascar-cup-series.wikia.com        32529801.0      NaN   \n",
       "2                     10low46japreligion.wikia.com         1602876.0      NaN   \n",
       "3                               de.bibel.wikia.com        36490113.0      NaN   \n",
       "4                        indigo-showdown.wikia.com        25001469.0      NaN   \n",
       "\n",
       "         hub         id lang language  \\\n",
       "0      Games   529058.0   en       en   \n",
       "1         TV  1601247.0   en       en   \n",
       "2  Lifestyle    52061.0   en       en   \n",
       "3      Books  1782059.0   de       de   \n",
       "4      Games   982346.0   en       en   \n",
       "\n",
       "                                                name         ...          \\\n",
       "0                                   Spellmagotm Wiki         ...           \n",
       "1         2017 Monster Energy NASCAR Cup Series Wiki         ...           \n",
       "2  Ancient Japanese Religion (Daramalan Assignmen...         ...           \n",
       "3                                         Bibel Wiki         ...           \n",
       "4                               Indigo showdown Wiki         ...           \n",
       "\n",
       "   stats.nonarticles  users_1  users_5  users_10  users_20  users_50  \\\n",
       "0              221.0        5        1         1         1         1   \n",
       "1              108.0        6        3         1         1         1   \n",
       "2              239.0        7        2         1         1         1   \n",
       "3               92.0        4        1         1         1         0   \n",
       "4              139.0        9        4         3         3         1   \n",
       "\n",
       "   users_100  bots                  birthDate  datetime.birthDate  \n",
       "0          0     5         14:14, May 1, 2012 2012-05-01 14:14:00  \n",
       "1          1     4       22:35, July 24, 2017 2017-07-24 22:35:00  \n",
       "2          1     5  23:21, September 15, 2009 2009-09-15 23:21:00  \n",
       "3          0     2        19:14, 6. Aug. 2018                 NaT  \n",
       "4          0     5        15:43, May 30, 2014 2014-05-30 15:43:00  \n",
       "\n",
       "[5 rows x 32 columns]"
      ]
     },
     "execution_count": 92,
     "metadata": {},
     "output_type": "execute_result"
    }
   ],
   "source": [
    "# Merge index, stats, users and birthdate in order to identify the wikis that lack from any kind of information\n",
    "mergedStatUserBirthData = pd.merge(dfStatsUsers, dfBirthDate, how='left', on=['url'])\n",
    "mergedStatUserBirthData.head()"
   ]
  },
  {
   "cell_type": "code",
   "execution_count": 93,
   "metadata": {
    "ExecuteTime": {
     "end_time": "2018-05-08T16:31:08.398115Z",
     "start_time": "2018-05-08T16:31:08.210535Z"
    }
   },
   "outputs": [
    {
     "name": "stdout",
     "output_type": "stream",
     "text": [
      "Wikia Index size: 295660\n",
      "  Wikis with birthDate: 294744\n",
      "  Wikis with stats AND users AND birthDate: 290437\n",
      "  Wikis with birthDate in correct datetime format: 198973\n"
     ]
    }
   ],
   "source": [
    "print('Wikia Index size: {}'.format(len(dfIndex)))\n",
    "print('  Wikis with birthDate: {}'.format(len(mergedBirthData[~mergedBirthData['birthDate'].isna()])))\n",
    "print('  Wikis with stats AND users AND birthDate: {}'.format(len(mergedStatUserBirthData[(~mergedStatUserBirthData['id'].isna()) & (~mergedStatUserBirthData['birthDate'].isna())])))\n",
    "print('  Wikis with birthDate in correct datetime format: {}'.format(len(mergedStatUserBirthData[~mergedStatUserBirthData['datetime.birthDate'].isna()])))"
   ]
  },
  {
   "cell_type": "code",
   "execution_count": 95,
   "metadata": {},
   "outputs": [
    {
     "data": {
      "text/plain": [
       "290437"
      ]
     },
     "execution_count": 95,
     "metadata": {},
     "output_type": "execute_result"
    }
   ],
   "source": [
    "mergedStatUserBirthData.dropna(subset=['birthDate'], inplace=True)\n",
    "len(mergedStatUserBirthData)"
   ]
  },
  {
   "cell_type": "markdown",
   "metadata": {},
   "source": [
    "## New parsing of birthdates\n",
    "\n",
    "Previous stats show that there are around 100k dates in a non valid datetime format. The reason is that the birthdate string is language dependant so some string were not correctly parsed after loading the birthdate data. We will use the [dateparser module](https://dateparser.readthedocs.io/en/v0.7.0/) and the Wiki language in order to parse the non valid birthdates. "
   ]
  },
  {
   "cell_type": "code",
   "execution_count": 100,
   "metadata": {
    "ExecuteTime": {
     "end_time": "2018-05-08T16:39:31.388586Z",
     "start_time": "2018-05-08T16:36:22.303468Z"
    }
   },
   "outputs": [],
   "source": [
    "dates = mergedStatUserBirthData[mergedStatUserBirthData['datetime.birthDate'].isna()]['birthDate'].values\n",
    "languages = mergedStatUserBirthData[mergedStatUserBirthData['datetime.birthDate'].isna()]['lang'].values\n",
    "\n",
    "i = 0\n",
    "newDates = {}\n",
    "for d in dates:\n",
    "    try:\n",
    "        newDates[d] = dateparser.parse(d, languages=[languages[i]])\n",
    "    except Exception:\n",
    "        newDates[d] = \"NONVALID\"\n",
    "    i+=1"
   ]
  },
  {
   "cell_type": "code",
   "execution_count": 101,
   "metadata": {},
   "outputs": [
    {
     "data": {
      "text/plain": [
       "array(['de', 'es', 'de', ..., 'ar', 'it', 'ru'], dtype=object)"
      ]
     },
     "execution_count": 101,
     "metadata": {},
     "output_type": "execute_result"
    }
   ],
   "source": [
    "languages"
   ]
  },
  {
   "cell_type": "code",
   "execution_count": 102,
   "metadata": {},
   "outputs": [
    {
     "data": {
      "text/plain": [
       "array(['19:14, 6. Aug. 2018', '13:01 29 nov 2017', '20:10, 24. Jul. 2012',\n",
       "       ..., '١٦:٥٤، ديسمبر ١٢، ٢٠١٣', '13:19, dic 18, 2011',\n",
       "       '14:46, апреля 8, 2010'], dtype=object)"
      ]
     },
     "execution_count": 102,
     "metadata": {},
     "output_type": "execute_result"
    }
   ],
   "source": [
    "dates"
   ]
  },
  {
   "cell_type": "code",
   "execution_count": 103,
   "metadata": {
    "ExecuteTime": {
     "end_time": "2018-05-08T16:40:38.089508Z",
     "start_time": "2018-05-08T16:40:37.806686Z"
    }
   },
   "outputs": [],
   "source": [
    "nanBirthDates = mergedStatUserBirthData[mergedStatUserBirthData['datetime.birthDate'].isna()].copy()\n",
    "noNanBirthDates = mergedStatUserBirthData.dropna(subset=['datetime.birthDate'])\n",
    "\n",
    "# Add new parsed birthdates\n",
    "nanBirthDates['datetime.birthDate'] = nanBirthDates['birthDate'].map(newDates)\n",
    "\n",
    "# Remove the birthdates that remain NA\n",
    "nanBirthDates.dropna(subset=['datetime.birthDate'], inplace=True)\n",
    "\n",
    "# Remove NONVALID birthdates \n",
    "nanBirthDates = nanBirthDates[~nanBirthDates['datetime.birthDate'].isin(['NONVALID'])].copy()"
   ]
  },
  {
   "cell_type": "code",
   "execution_count": 106,
   "metadata": {
    "ExecuteTime": {
     "end_time": "2018-05-08T16:40:40.441512Z",
     "start_time": "2018-05-08T16:40:39.998805Z"
    }
   },
   "outputs": [
    {
     "data": {
      "text/plain": [
       "277795"
      ]
     },
     "execution_count": 106,
     "metadata": {},
     "output_type": "execute_result"
    }
   ],
   "source": [
    "wikiaDataset = pd.concat([noNanBirthDates,nanBirthDates])\n",
    "len(wikiaDataset)"
   ]
  },
  {
   "cell_type": "code",
   "execution_count": 105,
   "metadata": {},
   "outputs": [
    {
     "data": {
      "text/html": [
       "<div>\n",
       "<style scoped>\n",
       "    .dataframe tbody tr th:only-of-type {\n",
       "        vertical-align: middle;\n",
       "    }\n",
       "\n",
       "    .dataframe tbody tr th {\n",
       "        vertical-align: top;\n",
       "    }\n",
       "\n",
       "    .dataframe thead th {\n",
       "        text-align: right;\n",
       "    }\n",
       "</style>\n",
       "<table border=\"1\" class=\"dataframe\">\n",
       "  <thead>\n",
       "    <tr style=\"text-align: right;\">\n",
       "      <th></th>\n",
       "      <th>url</th>\n",
       "      <th>creation_date</th>\n",
       "      <th>domain</th>\n",
       "      <th>founding_user_id</th>\n",
       "      <th>headline</th>\n",
       "      <th>hub</th>\n",
       "      <th>id</th>\n",
       "      <th>lang</th>\n",
       "      <th>language</th>\n",
       "      <th>name</th>\n",
       "      <th>...</th>\n",
       "      <th>stats.nonarticles</th>\n",
       "      <th>users_1</th>\n",
       "      <th>users_5</th>\n",
       "      <th>users_10</th>\n",
       "      <th>users_20</th>\n",
       "      <th>users_50</th>\n",
       "      <th>users_100</th>\n",
       "      <th>bots</th>\n",
       "      <th>birthDate</th>\n",
       "      <th>datetime.birthDate</th>\n",
       "    </tr>\n",
       "  </thead>\n",
       "  <tbody>\n",
       "    <tr>\n",
       "      <th>3</th>\n",
       "      <td>http://de.bibel.wikia.com</td>\n",
       "      <td>2018-08-06 19:13:40</td>\n",
       "      <td>de.bibel.wikia.com</td>\n",
       "      <td>36490113.0</td>\n",
       "      <td>NaN</td>\n",
       "      <td>Books</td>\n",
       "      <td>1782059.0</td>\n",
       "      <td>de</td>\n",
       "      <td>de</td>\n",
       "      <td>Bibel Wiki</td>\n",
       "      <td>...</td>\n",
       "      <td>92.0</td>\n",
       "      <td>4</td>\n",
       "      <td>1</td>\n",
       "      <td>1</td>\n",
       "      <td>1</td>\n",
       "      <td>0</td>\n",
       "      <td>0</td>\n",
       "      <td>2</td>\n",
       "      <td>19:14, 6. Aug. 2018</td>\n",
       "      <td>2018-08-06 19:14:00</td>\n",
       "    </tr>\n",
       "  </tbody>\n",
       "</table>\n",
       "<p>1 rows × 32 columns</p>\n",
       "</div>"
      ],
      "text/plain": [
       "                         url        creation_date              domain  \\\n",
       "3  http://de.bibel.wikia.com  2018-08-06 19:13:40  de.bibel.wikia.com   \n",
       "\n",
       "   founding_user_id headline    hub         id lang language        name  \\\n",
       "3        36490113.0      NaN  Books  1782059.0   de       de  Bibel Wiki   \n",
       "\n",
       "          ...           stats.nonarticles  users_1  users_5  users_10  \\\n",
       "3         ...                        92.0        4        1         1   \n",
       "\n",
       "   users_20  users_50  users_100  bots            birthDate  \\\n",
       "3         1         0          0     2  19:14, 6. Aug. 2018   \n",
       "\n",
       "    datetime.birthDate  \n",
       "3  2018-08-06 19:14:00  \n",
       "\n",
       "[1 rows x 32 columns]"
      ]
     },
     "execution_count": 105,
     "metadata": {},
     "output_type": "execute_result"
    }
   ],
   "source": [
    "wikiaDataset[wikiaDataset['url'] == 'http://de.bibel.wikia.com']"
   ]
  },
  {
   "cell_type": "markdown",
   "metadata": {},
   "source": [
    "## Thailand calendar\n",
    "\n",
    "Change date for Thailand calendar: [On 6 September 1940, Prime Minister Phibunsongkhram decreed 1 January 1941 as the start of the year 2484 BE, so year 2483 BE had only nine months. To convert dates from 1 January to 31 March prior to that year, the number to add or subtract is 542; otherwise, it is 543.](https://en.wikipedia.org/wiki/Thai_solar_calendar)"
   ]
  },
  {
   "cell_type": "code",
   "execution_count": null,
   "metadata": {
    "ExecuteTime": {
     "end_time": "2018-05-08T16:40:53.163874Z",
     "start_time": "2018-05-08T16:40:44.502772Z"
    }
   },
   "outputs": [],
   "source": [
    "def changeCalendar(row):\n",
    "    if row['lang']=='th':\n",
    "        date = row['datetime.birthDate']\n",
    "        thYear = date.year\n",
    "        return date.replace(year = thYear-543)\n",
    "    else:\n",
    "        return row['datetime.birthDate'] \n",
    "    \n",
    "wikiaDataset['datetime.birthDate'] = wikiaDataset.apply(changeCalendar, axis=1)"
   ]
  },
  {
   "cell_type": "code",
   "execution_count": null,
   "metadata": {
    "ExecuteTime": {
     "end_time": "2018-05-08T16:41:08.360996Z",
     "start_time": "2018-05-08T16:41:08.358558Z"
    }
   },
   "outputs": [],
   "source": [
    "print('Wikis with stats AND users AND valid birthdates: {}'.format(len(wikiaDataset)))"
   ]
  },
  {
   "cell_type": "code",
   "execution_count": null,
   "metadata": {
    "ExecuteTime": {
     "end_time": "2018-05-08T16:41:35.988201Z",
     "start_time": "2018-05-08T16:41:27.004552Z"
    }
   },
   "outputs": [],
   "source": [
    "# Save to CSV\n",
    "import time\n",
    "timestr = time.strftime(\"%Y%m%d\")\n",
    "wikiaDataset.to_csv('../data/{}-wikia_stats_users_birthdate.csv'.format(timestr), index=False)"
   ]
  }
 ],
 "metadata": {
  "kernelspec": {
   "display_name": "Python 3",
   "language": "python",
   "name": "python3"
  },
  "language_info": {
   "codemirror_mode": {
    "name": "ipython",
    "version": 3
   },
   "file_extension": ".py",
   "mimetype": "text/x-python",
   "name": "python",
   "nbconvert_exporter": "python",
   "pygments_lexer": "ipython3",
   "version": "3.5.2"
  },
  "toc": {
   "colors": {
    "hover_highlight": "#DAA520",
    "navigate_num": "#000000",
    "navigate_text": "#333333",
    "running_highlight": "#FF0000",
    "selected_highlight": "#FFD700",
    "sidebar_border": "#EEEEEE",
    "wrapper_background": "#FFFFFF"
   },
   "moveMenuLeft": true,
   "nav_menu": {
    "height": "12px",
    "width": "252px"
   },
   "navigate_menu": true,
   "number_sections": true,
   "sideBar": true,
   "threshold": 4,
   "toc_cell": false,
   "toc_section_display": "block",
   "toc_window_display": false,
   "widenNotebook": false
  },
  "varInspector": {
   "cols": {
    "lenName": 16,
    "lenType": 16,
    "lenVar": 40
   },
   "kernels_config": {
    "python": {
     "delete_cmd_postfix": "",
     "delete_cmd_prefix": "del ",
     "library": "var_list.py",
     "varRefreshCmd": "print(var_dic_list())"
    },
    "r": {
     "delete_cmd_postfix": ") ",
     "delete_cmd_prefix": "rm(",
     "library": "var_list.r",
     "varRefreshCmd": "cat(var_dic_list()) "
    }
   },
   "types_to_exclude": [
    "module",
    "function",
    "builtin_function_or_method",
    "instance",
    "_Feature"
   ],
   "window_display": false
  }
 },
 "nbformat": 4,
 "nbformat_minor": 2
}
